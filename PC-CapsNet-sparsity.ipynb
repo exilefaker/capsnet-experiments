{
 "cells": [
  {
   "cell_type": "markdown",
   "id": "b7af6e32-ef40-45e9-98cc-bbee38030727",
   "metadata": {},
   "source": [
    "# Experiments on sparse CapsNet inference\n",
    "\n",
    "from `Capsule Networks as Generative Models': https://arxiv.org/abs/2209.02567"
   ]
  },
  {
   "cell_type": "code",
   "execution_count": 74,
   "id": "b5004002-02cd-4468-8f95-dee54d6a337f",
   "metadata": {},
   "outputs": [
    {
     "name": "stdout",
     "output_type": "stream",
     "text": [
      "Requirement already satisfied: torch in /opt/conda/lib/python3.9/site-packages (1.10.2)\n",
      "Requirement already satisfied: torchvision in /opt/conda/lib/python3.9/site-packages (0.11.3)\n",
      "Requirement already satisfied: typing-extensions in /opt/conda/lib/python3.9/site-packages (from torch) (4.0.1)\n",
      "Requirement already satisfied: pillow!=8.3.0,>=5.3.0 in /opt/conda/lib/python3.9/site-packages (from torchvision) (8.4.0)\n",
      "Requirement already satisfied: numpy in /opt/conda/lib/python3.9/site-packages (from torchvision) (1.19.5)\n",
      "Requirement already satisfied: graphviz in /opt/conda/lib/python3.9/site-packages (0.19.1)\n",
      "Requirement already satisfied: torchviz in /opt/conda/lib/python3.9/site-packages (0.0.2)\n",
      "Requirement already satisfied: graphviz in /opt/conda/lib/python3.9/site-packages (from torchviz) (0.19.1)\n",
      "Requirement already satisfied: torch in /opt/conda/lib/python3.9/site-packages (from torchviz) (1.10.2)\n",
      "Requirement already satisfied: typing-extensions in /opt/conda/lib/python3.9/site-packages (from torch->torchviz) (4.0.1)\n"
     ]
    }
   ],
   "source": [
    "import sys\n",
    "!{sys.executable} -m pip install torch torchvision"
   ]
  },
  {
   "cell_type": "markdown",
   "id": "e9680e0f-cb01-4e99-b6c3-05b7a13e2a9c",
   "metadata": {},
   "source": [
    "## Network\n",
    "\n",
    "Credit where due: main CapsNet classes and training routine adapted from https://github.com/adambielski/CapsNet-pytorch"
   ]
  },
  {
   "cell_type": "code",
   "execution_count": 76,
   "id": "896eae4c-ee8d-4c84-b771-9ea67462de2b",
   "metadata": {},
   "outputs": [],
   "source": [
    "import torch\n",
    "import torch.nn as nn\n",
    "import torch.nn.functional as F\n",
    "import math\n",
    "\n",
    "import numpy as np\n",
    "import time\n",
    "import os\n",
    "import glob\n",
    "import matplotlib.pyplot as plt\n",
    "\n",
    "import torch.optim as optim\n",
    "from torch.optim import lr_scheduler\n",
    "from torch.autograd import Variable\n",
    "from torchvision import datasets, transforms\n"
   ]
  },
  {
   "cell_type": "code",
   "execution_count": 157,
   "id": "48101dc4-b9bd-4c6f-94be-84c96fb643f8",
   "metadata": {},
   "outputs": [],
   "source": [
    "def conv_output_dim(input_dim, kernel_size, stride):\n",
    "    return ((input_dim - (kernel_size - 1) - 1) // stride) + 1\n",
    "\n",
    "\n",
    "def conv_output_dims(input_dims, kernel_size, stride):\n",
    "    x, y = input_dims\n",
    "    out_x = conv_output_dim(x, kernel_size, stride)\n",
    "    out_y = conv_output_dim(y, kernel_size, stride)\n",
    "    return out_x, out_y\n",
    "\n",
    "\n",
    "def squash(x):\n",
    "    lengths2 = x.pow(2).sum(dim=2)\n",
    "    lengths = lengths2.sqrt()\n",
    "    x = x * (lengths2 / (1 + lengths2) / lengths).view(x.size(0), x.size(1), 1)\n",
    "    return x\n",
    "\n",
    "\n",
    "def one_hots(ints, lengths):\n",
    "    t = torch.zeros(lengths.size()).long()\n",
    "    if ints.is_cuda:\n",
    "        t = t.cuda()\n",
    "    return t.scatter_(1, ints.data.view(-1, 1), 1)\n",
    "\n",
    "\n",
    "def standard_pc_error(e,_):\n",
    "    return torch.sum(torch.square(e))\n",
    "\n",
    "\n",
    "def pc_plus_capsules_l1(e,x, penalty=1):\n",
    "    capsule_magnitudes = x.pow(2).sum(dim=2).sqrt()\n",
    "    return standard_pc_error(e, x) + penalty*torch.sum(capsule_magnitudes)\n",
    "\n",
    "\n",
    "class AgreementRouting(nn.Module):\n",
    "    def __init__(self, input_caps, output_caps, n_iterations):\n",
    "        super(AgreementRouting, self).__init__()\n",
    "        self.n_iterations = n_iterations\n",
    "        self.b = nn.Parameter(torch.zeros((input_caps, output_caps)))\n",
    "\n",
    "    def forward(self, u_predict):\n",
    "        batch_size, input_caps, output_caps, output_dim = u_predict.size()\n",
    "        \n",
    "        if self.n_iterations == 0:\n",
    "            return squash(u_predict.sum(dim=1))\n",
    "\n",
    "        c = F.softmax(self.b)\n",
    "        s = (c.unsqueeze(2) * u_predict).sum(dim=1)\n",
    "        v = squash(s)\n",
    "\n",
    "        if self.n_iterations > 1:\n",
    "            b_batch = self.b.expand((batch_size, input_caps, output_caps))\n",
    "            for r in range(self.n_iterations):\n",
    "                v = v.unsqueeze(1)\n",
    "                b_batch = b_batch + (u_predict * v).sum(-1)\n",
    "\n",
    "                c = F.softmax(b_batch.view(-1, output_caps)).view(-1, input_caps, output_caps, 1)\n",
    "                s = (c * u_predict).sum(dim=1)\n",
    "                v = squash(s)\n",
    "\n",
    "        return v\n",
    "\n",
    "\n",
    "class CapsLayer(nn.Module):\n",
    "    def __init__(self, input_caps, input_dim, output_caps, output_dim, routing_module):\n",
    "        super(CapsLayer, self).__init__()\n",
    "        self.input_dim = input_dim\n",
    "        self.input_caps = input_caps\n",
    "        self.output_dim = output_dim\n",
    "        self.output_caps = output_caps\n",
    "        self.weights = nn.Parameter(torch.Tensor(input_caps, input_dim, output_caps * output_dim))\n",
    "        self.routing_module = routing_module\n",
    "        self.reset_parameters()\n",
    "\n",
    "    def reset_parameters(self):\n",
    "        stdv = 1. / math.sqrt(self.input_caps)\n",
    "        self.weights.data.uniform_(-stdv, stdv)\n",
    "\n",
    "    def forward(self, caps_output):\n",
    "        caps_output = caps_output.unsqueeze(2)\n",
    "        u_predict = caps_output.matmul(self.weights)\n",
    "        u_predict = u_predict.view(u_predict.size(0), self.input_caps, self.output_caps, self.output_dim)\n",
    "\n",
    "        v = self.routing_module(u_predict)\n",
    "        return v\n",
    "\n",
    "\n",
    "class PrimaryCapsLayer(nn.Module):\n",
    "    def __init__(self, input_channels, output_caps, output_dim, kernel_size, stride):\n",
    "        super(PrimaryCapsLayer, self).__init__()\n",
    "        self.conv = nn.Conv2d(input_channels, output_caps * output_dim, kernel_size=kernel_size, stride=stride)\n",
    "        self.input_channels = input_channels\n",
    "        self.output_caps = output_caps\n",
    "        self.output_dim = output_dim\n",
    "\n",
    "    def forward(self, input):\n",
    "        out = self.conv(input)\n",
    "        N, C, H, W = out.size()\n",
    "        out = out.view(N, self.output_caps, self.output_dim, H, W)\n",
    "\n",
    "        # will output N x OUT_CAPS x OUT_DIM\n",
    "        out = out.permute(0, 1, 3, 4, 2).contiguous()\n",
    "        out = out.view(out.size(0), -1, out.size(4))\n",
    "        out = squash(out)\n",
    "        return out\n",
    "\n",
    "\n",
    "class CapsNet(nn.Module):\n",
    "    def __init__(self, routing_iterations, n_classes=10):\n",
    "        super(CapsNet, self).__init__()\n",
    "        self.conv1 = nn.Conv2d(1, 256, kernel_size=9, stride=1)\n",
    "        self.primaryCaps = PrimaryCapsLayer(256, 32, 8, kernel_size=9, stride=2)  # outputs 6*6\n",
    "        self.num_primaryCaps = 32 * 6 * 6\n",
    "        routing_module = AgreementRouting(self.num_primaryCaps, n_classes, routing_iterations)\n",
    "        self.digitCaps = CapsLayer(self.num_primaryCaps, 8, n_classes, 16, routing_module)\n",
    "        self.n_classes = n_classes\n",
    "        \n",
    "    def forward(self, input):\n",
    "        x = self.conv1(input)\n",
    "        x = F.relu(x)\n",
    "        x = self.primaryCaps(x)\n",
    "        x = self.digitCaps(x)\n",
    "        probs = x.pow(2).sum(dim=2).sqrt()\n",
    "        return x, probs\n",
    "\n",
    "    \n",
    "class ReconstructionNet(nn.Module):\n",
    "    def __init__(self, n_dim=16, n_classes=10):\n",
    "        super(ReconstructionNet, self).__init__()\n",
    "        self.fc1 = nn.Linear(n_dim * n_classes, 512)\n",
    "        self.fc2 = nn.Linear(512, 1024)\n",
    "        self.fc3 = nn.Linear(1024, 784)\n",
    "        self.n_dim = n_dim\n",
    "        self.n_classes = n_classes\n",
    "\n",
    "    def forward(self, x, target):\n",
    "        mask = Variable(torch.zeros((x.size()[0], self.n_classes)), requires_grad=False)\n",
    "        if next(self.parameters()).is_cuda:\n",
    "            mask = mask.cuda()\n",
    "        mask.scatter_(1, target.view(-1, 1), 1.)\n",
    "        mask = mask.unsqueeze(2)\n",
    "        x = x * mask\n",
    "        x = x.view(-1, self.n_dim * self.n_classes)\n",
    "        x = F.relu(self.fc1(x))\n",
    "        x = F.relu(self.fc2(x))\n",
    "        x = torch.sigmoid(self.fc3(x))\n",
    "        return x\n",
    "\n",
    "\n",
    "class CapsNetWithReconstruction(nn.Module):\n",
    "    def __init__(self, capsnet, reconstruction_net):\n",
    "        super(CapsNetWithReconstruction, self).__init__()\n",
    "        self.capsnet = capsnet\n",
    "        self.n_classes = self.capsnet.n_classes\n",
    "        self.reconstruction_net = reconstruction_net\n",
    "\n",
    "    def forward(self, x, target):\n",
    "        x, probs = self.capsnet(x)\n",
    "        reconstruction = self.reconstruction_net(x, target)\n",
    "        return x, reconstruction, probs\n",
    "\n",
    "\n",
    "class MarginLoss(nn.Module):\n",
    "    def __init__(self, m_pos, m_neg, lambda_):\n",
    "        super(MarginLoss, self).__init__()\n",
    "        self.m_pos = m_pos\n",
    "        self.m_neg = m_neg\n",
    "        self.lambda_ = lambda_\n",
    "\n",
    "    def forward(self, lengths, targets, size_average=True):\n",
    "        t = torch.zeros(lengths.size()).long()\n",
    "        if targets.is_cuda:\n",
    "            t = t.cuda()\n",
    "        t = t.scatter_(1, targets.data.view(-1, 1), 1)\n",
    "        targets = Variable(t)\n",
    "        losses = targets.float() * F.relu(self.m_pos - lengths).pow(2) + \\\n",
    "                 self.lambda_ * (1. - targets.float()) * F.relu(lengths - self.m_neg).pow(2)\n",
    "        return losses.mean() if size_average else losses.sum()\n"
   ]
  },
  {
   "cell_type": "code",
   "execution_count": 107,
   "id": "4823c8bc-817b-48bf-a388-3c0d1dea0df6",
   "metadata": {},
   "outputs": [],
   "source": [
    "class PCCapsNet(nn.Module):\n",
    "    def __init__(\n",
    "        self, \n",
    "        routing_iterations,\n",
    "        input_dims=(28, 28),\n",
    "        n_classes=10, \n",
    "        conv1_kernel_size=9, \n",
    "        conv1_stride=1, \n",
    "        num_conv1_channels=256,\n",
    "        primaryCaps_kernel_size=9, \n",
    "        primaryCaps_channels=32,\n",
    "        primaryCaps_stride=2,\n",
    "        primaryCaps_dim=8,\n",
    "        digitCaps_dim=16,\n",
    "    ):\n",
    "        super(PCCapsNet, self).__init__()\n",
    "        self.n_classes = n_classes\n",
    "        self.conv1 = nn.Conv2d(1, num_conv1_channels, kernel_size=conv1_kernel_size, stride=conv1_stride)\n",
    "        self.primaryCaps = PrimaryCapsLayer(num_conv1_channels, primaryCaps_channels, primaryCaps_dim, kernel_size=primaryCaps_kernel_size, stride=primaryCaps_stride)  # outputs 6*6\n",
    "\n",
    "        conv1_out_x, conv1_out_y = conv_output_dims(input_dims, conv1_kernel_size, conv1_stride)\n",
    "        primaryCaps_out_x, primaryCaps_out_y = conv_output_dims((conv1_out_x, conv1_out_y), primaryCaps_kernel_size, primaryCaps_stride)\n",
    "\n",
    "        self.num_primaryCaps = primaryCaps_channels * primaryCaps_out_x * primaryCaps_out_y\n",
    "\n",
    "        routing_module = AgreementRouting(self.num_primaryCaps, n_classes, routing_iterations)\n",
    "        self.digitCaps = CapsLayer(self.num_primaryCaps, primaryCaps_dim, n_classes, digitCaps_dim, routing_module)\n",
    "\n",
    "    def forward(self, input):\n",
    "        x = self.conv1(input)\n",
    "        x = F.relu(x)\n",
    "        x = self.primaryCaps(x)\n",
    "        x = self.digitCaps(x)\n",
    "        probs = x.pow(2).sum(dim=2).sqrt()\n",
    "        return x, probs\n",
    "\n",
    "    def infer(self, x, targets, num_steps=500, lr=1e-2, momentum=0., loss_fn=standard_pc_error):\n",
    "        model.eval()\n",
    "        for param in self.parameters():\n",
    "            param.requires_grad = False\n",
    "\n",
    "        conv1_out = self.conv1(x).float()\n",
    "        primaryCaps_out = self.primaryCaps(conv1_out).float()\n",
    "        digitCaps_out = self.digitCaps(primaryCaps_out).float()\n",
    "        probs = digitCaps_out.pow(2).sum(dim=2).sqrt()\n",
    "\n",
    "        conv1_x = nn.Parameter(conv1_out)\n",
    "        primaryCaps_x = nn.Parameter(primaryCaps_out)\n",
    "        digitCaps_x = nn.Parameter(digitCaps_out)\n",
    "\n",
    "        # One-hot encode target\n",
    "        t = torch.zeros(torch.Size([targets.size()[0], self.n_classes])).long()\n",
    "        if targets.is_cuda:\n",
    "            t = t.cuda()\n",
    "        t = t.scatter_(1, targets.data.view(-1, 1), 1)\n",
    "        targets = Variable(t)\n",
    "\n",
    "        activations = []\n",
    "        l2_norms = []\n",
    "        losses = []\n",
    "        \n",
    "        opt = optim.SGD([conv1_x, primaryCaps_x, digitCaps_x], lr=lr, momentum=momentum)\n",
    "        opt.zero_grad()\n",
    "        \n",
    "        for step in range(num_steps):\n",
    "            opt.zero_grad()\n",
    "\n",
    "            conv1_errors = conv1_x - self.conv1(x)            \n",
    "            primaryCaps_errors = primaryCaps_x - self.primaryCaps(conv1_x)\n",
    "            digitCaps_errors = digitCaps_x - self.digitCaps(primaryCaps_x)            \n",
    "            output_errors = digitCaps_x.pow(2).sum(dim=2).sqrt() - targets\n",
    "                        \n",
    "            loss = loss_fn(conv1_errors, digitCaps_x) \\\n",
    "                + loss_fn(primaryCaps_errors, digitCaps_x) \\\n",
    "                + loss_fn(digitCaps_errors, digitCaps_x) \\\n",
    "                + loss_fn(output_errors, digitCaps_x)            \n",
    "            if step%100==0:\n",
    "                print(\"loss\", loss)\n",
    "\n",
    "            loss.backward()            \n",
    "            opt.step()\n",
    "\n",
    "            activations.append(digitCaps_out.detach().cpu().numpy())\n",
    "            l2_norms.append(probs.detach().cpu().numpy())\n",
    "            losses.append(loss.detach().cpu().numpy())\n",
    "\n",
    "        for param in self.parameters():\n",
    "            param.requires_grad = True\n",
    "\n",
    "        return activations, l2_norms, losses\n",
    "\n",
    "    \n",
    "class PCCapsNetWithReconstruction(nn.Module):\n",
    "    def __init__(self, pccapsnet, reconstruction_net):\n",
    "        super(PCCapsNetWithReconstruction, self).__init__()\n",
    "        self.pccapsnet = pccapsnet\n",
    "        self.n_classes = self.pccapsnet.n_classes\n",
    "        self.reconstruction_net = reconstruction_net\n",
    "\n",
    "    def forward(self, x, target):\n",
    "        x, probs = self.pccapsnet(x)\n",
    "        reconstruction = self.reconstruction_net(x, target)\n",
    "        return x, reconstruction, probs\n",
    "\n",
    "\n",
    "# Two-layer version of CapsNet (reduce PrimaryCaps to 16 channels and add a SecondaryCaps of same shape)\n",
    "class CapsNet2(nn.Module):\n",
    "    def __init__(\n",
    "        self, \n",
    "        routing_iterations,\n",
    "        input_dims=(28, 28),\n",
    "        n_classes=10, \n",
    "        conv1_kernel_size=9, \n",
    "        conv1_stride=1, \n",
    "        num_conv1_channels=256,\n",
    "        primaryCaps_kernel_size=9, \n",
    "        primaryCaps_channels=16,\n",
    "        primaryCaps_stride=2,\n",
    "        primaryCaps_dim=8,\n",
    "        secondaryCaps_channels=16,\n",
    "        secondaryCaps_dim=8,\n",
    "        digitCaps_dim=16,\n",
    "    ):\n",
    "        super(CapsNet2, self).__init__()\n",
    "        self.n_classes = n_classes\n",
    "        self.conv1 = nn.Conv2d(1, num_conv1_channels, kernel_size=conv1_kernel_size, stride=conv1_stride)\n",
    "        self.primaryCaps = PrimaryCapsLayer(num_conv1_channels, primaryCaps_channels, primaryCaps_dim, kernel_size=primaryCaps_kernel_size, stride=primaryCaps_stride)  # outputs 6*6\n",
    "\n",
    "        conv1_out_x, conv1_out_y = conv_output_dims(input_dims, conv1_kernel_size, conv1_stride)\n",
    "        primaryCaps_out_x, primaryCaps_out_y = conv_output_dims((conv1_out_x, conv1_out_y), primaryCaps_kernel_size, primaryCaps_stride)\n",
    "        print(\"PCx\", primaryCaps_out_x, \"PCy\", primaryCaps_out_y)\n",
    "        self.num_primaryCaps = primaryCaps_channels * primaryCaps_out_x * primaryCaps_out_y\n",
    "\n",
    "        routing_module_1 = AgreementRouting(self.num_primaryCaps, secondaryCaps_channels, routing_iterations)\n",
    "        self.secondaryCaps = CapsLayer(self.num_primaryCaps, primaryCaps_dim, secondaryCaps_channels, secondaryCaps_dim, routing_module_1)\n",
    "                \n",
    "        routing_module_2 = AgreementRouting(secondaryCaps_channels, n_classes, routing_iterations)        \n",
    "        self.digitCaps = CapsLayer(secondaryCaps_channels, secondaryCaps_dim, n_classes, digitCaps_dim, routing_module_2)\n",
    "\n",
    "\n",
    "    def forward(self, input):\n",
    "        x = self.conv1(input)\n",
    "        x = F.relu(x)\n",
    "        x = self.primaryCaps(x)\n",
    "        x = self.secondaryCaps(x)\n",
    "        x = self.digitCaps(x)\n",
    "        probs = x.pow(2).sum(dim=2).sqrt()\n",
    "        return x, probs\n",
    "    \n",
    "    \n",
    "class CapsNet2WithReconstruction(nn.Module):\n",
    "    def __init__(self, capsnet2, reconstruction_net):\n",
    "        super(CapsNet2WithReconstruction, self).__init__()\n",
    "        self.capsnet2 = capsnet2\n",
    "        self.n_classes = self.capsnet2.n_classes\n",
    "        self.reconstruction_net = reconstruction_net\n",
    "\n",
    "    def forward(self, x, target):\n",
    "        x, probs = self.capsnet2(x)\n",
    "        reconstruction = self.reconstruction_net(x, target)\n",
    "        return x, reconstruction, probs"
   ]
  },
  {
   "cell_type": "markdown",
   "id": "858b6bd1-17cb-4cde-8c2e-b1377f4e8d44",
   "metadata": {},
   "source": [
    "# Training setup"
   ]
  },
  {
   "cell_type": "code",
   "execution_count": 118,
   "id": "adbf549b-561e-4698-9a84-16855a4d51a3",
   "metadata": {},
   "outputs": [
    {
     "name": "stdout",
     "output_type": "stream",
     "text": [
      "PCx 6 PCy 6\n"
     ]
    }
   ],
   "source": [
    "batch_size = 128\n",
    "test_batch_size = 1000\n",
    "trial_batch_size = 10\n",
    "epochs = 13\n",
    "lr = 0.001\n",
    "cuda = True and torch.cuda.is_available()\n",
    "with_reconstruction = True\n",
    "seed = 33\n",
    "log_interval = 10\n",
    "routing_iterations = 0\n",
    "model_type = \"standard\"\n",
    "\n",
    "\n",
    "assert model_type in [\"standard\", \"two-layer\"], \"Please choose `standard` or `two-layer` model type!\"\n",
    "\n",
    "torch.manual_seed(seed)\n",
    "if cuda:\n",
    "    torch.cuda.manual_seed(seed)\n",
    "\n",
    "kwargs = {'num_workers': 1, 'pin_memory': True} if cuda else {}\n",
    "\n",
    "train_loader = torch.utils.data.DataLoader(\n",
    "    datasets.MNIST('./data', train=True, download=True,\n",
    "                    transform=transforms.Compose([\n",
    "                        transforms.Pad(2), transforms.RandomCrop(28),\n",
    "                        transforms.ToTensor()\n",
    "                    ])),\n",
    "    batch_size=batch_size, shuffle=True, **kwargs)\n",
    "\n",
    "inference_loader = torch.utils.data.DataLoader(\n",
    "    datasets.MNIST('./data', train=False, download=True,\n",
    "                    transform=transforms.Compose([\n",
    "                        transforms.Pad(2), transforms.RandomCrop(28),\n",
    "                        transforms.ToTensor()\n",
    "                    ])),\n",
    "    batch_size=1, shuffle=True, **kwargs)\n",
    "\n",
    "test_loader = torch.utils.data.DataLoader(\n",
    "    datasets.MNIST('./data', train=False, transform=transforms.Compose([\n",
    "        transforms.ToTensor()\n",
    "    ])),\n",
    "    batch_size=test_batch_size, shuffle=False, **kwargs)\n",
    "\n",
    "if model_type == \"standard\":\n",
    "    model = CapsNet(routing_iterations)\n",
    "elif model_type == \"two-layer\":\n",
    "    model = CapsNet2(routing_iterations)\n",
    "\n",
    "reconstruction_alpha = 0.0005\n",
    "if with_reconstruction:\n",
    "    reconstruction_model = ReconstructionNet(16, 10)\n",
    "    if model_type==\"standard\":\n",
    "        model = CapsNetWithReconstruction(model, reconstruction_model)\n",
    "    else:\n",
    "        model = CapsNet2WithReconstruction(model, reconstruction_model)\n",
    "\n",
    "if cuda:\n",
    "    model.cuda()\n",
    "\n",
    "optimizer = optim.Adam(model.parameters(), lr=lr)\n",
    "\n",
    "scheduler = lr_scheduler.ReduceLROnPlateau(optimizer, verbose=True, patience=15, min_lr=1e-6)\n",
    "\n",
    "loss_fn = MarginLoss(0.9, 0.1, 0.5)\n",
    "\n",
    "\n",
    "def train(epoch, with_recon=True):\n",
    "    model.train()\n",
    "\n",
    "    outputs, probabilities, losses = [], [], {\"total\": []}\n",
    "    if with_reconstruction:\n",
    "        losses[\"recon\"], losses[\"margin\"] = [], []\n",
    "\n",
    "    for batch_idx, (data, target) in enumerate(train_loader):\n",
    "        if cuda:\n",
    "            data, target = data.cuda(), target.cuda()\n",
    "        data, target = Variable(data), Variable(target, requires_grad=False)\n",
    "        optimizer.zero_grad()\n",
    "\n",
    "        if with_recon:\n",
    "            output, recon, probs = model(data, target)\n",
    "            if cuda:\n",
    "                outputs.append(output.detach().cpu().numpy())\n",
    "                probabilities.append(probs.detach().cpu().numpy())\n",
    "\n",
    "            else:\n",
    "                outputs.append(output.detach().numpy())\n",
    "                probabilities.append(probs.detach().numpy())\n",
    "\n",
    "            reconstruction_loss = F.mse_loss(recon, data.view(-1, 784))\n",
    "            margin_loss = loss_fn(probs, target)\n",
    "            if cuda:\n",
    "                losses[\"recon\"].append(reconstruction_loss.detach().cpu().numpy())\n",
    "                losses[\"margin\"].append(margin_loss.detach().cpu().numpy())\n",
    "            else:\n",
    "                losses[\"recon\"].append(reconstruction_loss.detach().numpy())\n",
    "                losses[\"margin\"].append(margin_loss.detach().numpy())\n",
    "            loss = reconstruction_alpha * reconstruction_loss + margin_loss\n",
    "\n",
    "        else:\n",
    "            output, probs = model(data)\n",
    "            loss = loss_fn(probs, target)\n",
    "            if cuda:\n",
    "                outputs.append(output.detach().cpu().numpy())\n",
    "                probabilities.append(probs.detach().cpu().numpy())\n",
    "            else:\n",
    "                outputs.append(output.detach().numpy())\n",
    "                probabilities.append(probs.detach().numpy())\n",
    "\n",
    "        if cuda:\n",
    "            losses[\"total\"].append(loss.detach().cpu().numpy())\n",
    "        else:\n",
    "            losses[\"total\"].append(loss.detach().numpy())\n",
    "        loss.backward()\n",
    "        optimizer.step()\n",
    "\n",
    "        if batch_idx % log_interval == 0:\n",
    "            print('Train Epoch: {} [{}/{} ({:.0f}%)]\\tLoss: {:.6f}'.format(\n",
    "                epoch, batch_idx * len(data), len(train_loader.dataset),\n",
    "                    100. * batch_idx / len(train_loader), loss.data))\n",
    "\n",
    "    return losses, outputs, probabilities\n",
    "\n",
    "\n",
    "def test(with_recon=True):\n",
    "    model.eval()\n",
    "    \n",
    "    with torch.no_grad():\n",
    "        test_loss = 0\n",
    "        correct = 0\n",
    "        for data, target in test_loader:\n",
    "            if cuda:\n",
    "                data, target = data.cuda(), target.cuda()\n",
    "            data, target = Variable(data), Variable(target)\n",
    "\n",
    "            if with_recon:\n",
    "                _, recon, probs = model(data, target)\n",
    "                reconstruction_loss = F.mse_loss(recon, data.view(-1, 784), size_average=False).data\n",
    "                test_loss += loss_fn(probs, target, size_average=False).data\n",
    "                test_loss += reconstruction_alpha * reconstruction_loss\n",
    "            else:\n",
    "                _, probs = model(data)\n",
    "                test_loss += loss_fn(probs, target, size_average=False).data\n",
    "\n",
    "            pred = probs.data.max(1, keepdim=True)[1]  # get the index of the max probability\n",
    "            correct += pred.eq(target.data.view_as(pred)).cpu().sum()\n",
    "\n",
    "        test_loss /= len(test_loader.dataset)\n",
    "        print('\\nTest set: Average loss: {:.4f}, Accuracy: {}/{} ({:.0f}%)\\n'.format(\n",
    "            test_loss, correct, len(test_loader.dataset),\n",
    "            100. * correct / len(test_loader.dataset)))\n",
    "        return test_loss\n"
   ]
  },
  {
   "cell_type": "markdown",
   "id": "85ec5f77-e443-48ab-b2fb-f7e54c98617b",
   "metadata": {},
   "source": [
    "# Train"
   ]
  },
  {
   "cell_type": "code",
   "execution_count": 119,
   "id": "e39e0252-bb60-4b3a-9b6d-652fa6f43a0c",
   "metadata": {
    "collapsed": true,
    "jupyter": {
     "outputs_hidden": true
    },
    "tags": []
   },
   "outputs": [
    {
     "name": "stdout",
     "output_type": "stream",
     "text": [
      "Train Epoch: 1 [0/60000 (0%)]\tLoss: 0.080185\n",
      "Train Epoch: 1 [1280/60000 (2%)]\tLoss: 0.054503\n",
      "Train Epoch: 1 [2560/60000 (4%)]\tLoss: 0.052391\n",
      "Train Epoch: 1 [3840/60000 (6%)]\tLoss: 0.051459\n",
      "Train Epoch: 1 [5120/60000 (9%)]\tLoss: 0.047544\n",
      "Train Epoch: 1 [6400/60000 (11%)]\tLoss: 0.041586\n",
      "Train Epoch: 1 [7680/60000 (13%)]\tLoss: 0.033197\n",
      "Train Epoch: 1 [8960/60000 (15%)]\tLoss: 0.030793\n",
      "Train Epoch: 1 [10240/60000 (17%)]\tLoss: 0.026868\n",
      "Train Epoch: 1 [11520/60000 (19%)]\tLoss: 0.020400\n",
      "Train Epoch: 1 [12800/60000 (21%)]\tLoss: 0.019724\n",
      "Train Epoch: 1 [14080/60000 (23%)]\tLoss: 0.015575\n",
      "Train Epoch: 1 [15360/60000 (26%)]\tLoss: 0.014983\n",
      "Train Epoch: 1 [16640/60000 (28%)]\tLoss: 0.010594\n",
      "Train Epoch: 1 [17920/60000 (30%)]\tLoss: 0.010603\n",
      "Train Epoch: 1 [19200/60000 (32%)]\tLoss: 0.009469\n",
      "Train Epoch: 1 [20480/60000 (34%)]\tLoss: 0.009965\n",
      "Train Epoch: 1 [21760/60000 (36%)]\tLoss: 0.010293\n",
      "Train Epoch: 1 [23040/60000 (38%)]\tLoss: 0.007007\n",
      "Train Epoch: 1 [24320/60000 (41%)]\tLoss: 0.009154\n",
      "Train Epoch: 1 [25600/60000 (43%)]\tLoss: 0.007002\n",
      "Train Epoch: 1 [26880/60000 (45%)]\tLoss: 0.004812\n",
      "Train Epoch: 1 [28160/60000 (47%)]\tLoss: 0.005092\n",
      "Train Epoch: 1 [29440/60000 (49%)]\tLoss: 0.006863\n",
      "Train Epoch: 1 [30720/60000 (51%)]\tLoss: 0.004481\n",
      "Train Epoch: 1 [32000/60000 (53%)]\tLoss: 0.004289\n",
      "Train Epoch: 1 [33280/60000 (55%)]\tLoss: 0.004655\n",
      "Train Epoch: 1 [34560/60000 (58%)]\tLoss: 0.004315\n",
      "Train Epoch: 1 [35840/60000 (60%)]\tLoss: 0.005615\n",
      "Train Epoch: 1 [37120/60000 (62%)]\tLoss: 0.003973\n",
      "Train Epoch: 1 [38400/60000 (64%)]\tLoss: 0.002816\n",
      "Train Epoch: 1 [39680/60000 (66%)]\tLoss: 0.004457\n",
      "Train Epoch: 1 [40960/60000 (68%)]\tLoss: 0.004806\n",
      "Train Epoch: 1 [42240/60000 (70%)]\tLoss: 0.004654\n",
      "Train Epoch: 1 [43520/60000 (72%)]\tLoss: 0.003269\n",
      "Train Epoch: 1 [44800/60000 (75%)]\tLoss: 0.003709\n",
      "Train Epoch: 1 [46080/60000 (77%)]\tLoss: 0.005169\n",
      "Train Epoch: 1 [47360/60000 (79%)]\tLoss: 0.003479\n",
      "Train Epoch: 1 [48640/60000 (81%)]\tLoss: 0.003111\n",
      "Train Epoch: 1 [49920/60000 (83%)]\tLoss: 0.004893\n",
      "Train Epoch: 1 [51200/60000 (85%)]\tLoss: 0.005294\n",
      "Train Epoch: 1 [52480/60000 (87%)]\tLoss: 0.002241\n",
      "Train Epoch: 1 [53760/60000 (90%)]\tLoss: 0.003124\n",
      "Train Epoch: 1 [55040/60000 (92%)]\tLoss: 0.003246\n",
      "Train Epoch: 1 [56320/60000 (94%)]\tLoss: 0.003158\n",
      "Train Epoch: 1 [57600/60000 (96%)]\tLoss: 0.004155\n",
      "Train Epoch: 1 [58880/60000 (98%)]\tLoss: 0.003172\n",
      "\n",
      "Test set: Average loss: 0.0440, Accuracy: 9879/10000 (99%)\n",
      "\n",
      "Train time for epoch:  0.3325645089149475 mins.\n",
      "Train Epoch: 2 [0/60000 (0%)]\tLoss: 0.002431\n",
      "Train Epoch: 2 [1280/60000 (2%)]\tLoss: 0.002891\n",
      "Train Epoch: 2 [2560/60000 (4%)]\tLoss: 0.003664\n",
      "Train Epoch: 2 [3840/60000 (6%)]\tLoss: 0.002798\n",
      "Train Epoch: 2 [5120/60000 (9%)]\tLoss: 0.002483\n",
      "Train Epoch: 2 [6400/60000 (11%)]\tLoss: 0.003199\n",
      "Train Epoch: 2 [7680/60000 (13%)]\tLoss: 0.002984\n",
      "Train Epoch: 2 [8960/60000 (15%)]\tLoss: 0.002214\n",
      "Train Epoch: 2 [10240/60000 (17%)]\tLoss: 0.002575\n",
      "Train Epoch: 2 [11520/60000 (19%)]\tLoss: 0.002208\n",
      "Train Epoch: 2 [12800/60000 (21%)]\tLoss: 0.002527\n",
      "Train Epoch: 2 [14080/60000 (23%)]\tLoss: 0.002216\n",
      "Train Epoch: 2 [15360/60000 (26%)]\tLoss: 0.002073\n",
      "Train Epoch: 2 [16640/60000 (28%)]\tLoss: 0.001671\n",
      "Train Epoch: 2 [17920/60000 (30%)]\tLoss: 0.001997\n",
      "Train Epoch: 2 [19200/60000 (32%)]\tLoss: 0.001470\n",
      "Train Epoch: 2 [20480/60000 (34%)]\tLoss: 0.001973\n",
      "Train Epoch: 2 [21760/60000 (36%)]\tLoss: 0.003225\n",
      "Train Epoch: 2 [23040/60000 (38%)]\tLoss: 0.002840\n",
      "Train Epoch: 2 [24320/60000 (41%)]\tLoss: 0.003086\n",
      "Train Epoch: 2 [25600/60000 (43%)]\tLoss: 0.001829\n",
      "Train Epoch: 2 [26880/60000 (45%)]\tLoss: 0.001770\n",
      "Train Epoch: 2 [28160/60000 (47%)]\tLoss: 0.003327\n",
      "Train Epoch: 2 [29440/60000 (49%)]\tLoss: 0.002149\n",
      "Train Epoch: 2 [30720/60000 (51%)]\tLoss: 0.001601\n",
      "Train Epoch: 2 [32000/60000 (53%)]\tLoss: 0.001301\n",
      "Train Epoch: 2 [33280/60000 (55%)]\tLoss: 0.001679\n",
      "Train Epoch: 2 [34560/60000 (58%)]\tLoss: 0.003301\n",
      "Train Epoch: 2 [35840/60000 (60%)]\tLoss: 0.001946\n",
      "Train Epoch: 2 [37120/60000 (62%)]\tLoss: 0.001610\n",
      "Train Epoch: 2 [38400/60000 (64%)]\tLoss: 0.001791\n",
      "Train Epoch: 2 [39680/60000 (66%)]\tLoss: 0.002731\n",
      "Train Epoch: 2 [40960/60000 (68%)]\tLoss: 0.001799\n",
      "Train Epoch: 2 [42240/60000 (70%)]\tLoss: 0.001727\n",
      "Train Epoch: 2 [43520/60000 (72%)]\tLoss: 0.001935\n",
      "Train Epoch: 2 [44800/60000 (75%)]\tLoss: 0.002516\n",
      "Train Epoch: 2 [46080/60000 (77%)]\tLoss: 0.002955\n",
      "Train Epoch: 2 [47360/60000 (79%)]\tLoss: 0.002083\n",
      "Train Epoch: 2 [48640/60000 (81%)]\tLoss: 0.003838\n",
      "Train Epoch: 2 [49920/60000 (83%)]\tLoss: 0.001653\n",
      "Train Epoch: 2 [51200/60000 (85%)]\tLoss: 0.003064\n",
      "Train Epoch: 2 [52480/60000 (87%)]\tLoss: 0.001298\n",
      "Train Epoch: 2 [53760/60000 (90%)]\tLoss: 0.001564\n",
      "Train Epoch: 2 [55040/60000 (92%)]\tLoss: 0.001571\n",
      "Train Epoch: 2 [56320/60000 (94%)]\tLoss: 0.001328\n",
      "Train Epoch: 2 [57600/60000 (96%)]\tLoss: 0.002267\n",
      "Train Epoch: 2 [58880/60000 (98%)]\tLoss: 0.002672\n",
      "\n",
      "Test set: Average loss: 0.0357, Accuracy: 9920/10000 (99%)\n",
      "\n",
      "Train time for epoch:  0.3347804546356201 mins.\n",
      "Train Epoch: 3 [0/60000 (0%)]\tLoss: 0.001668\n",
      "Train Epoch: 3 [1280/60000 (2%)]\tLoss: 0.001746\n",
      "Train Epoch: 3 [2560/60000 (4%)]\tLoss: 0.001706\n",
      "Train Epoch: 3 [3840/60000 (6%)]\tLoss: 0.001298\n",
      "Train Epoch: 3 [5120/60000 (9%)]\tLoss: 0.002336\n",
      "Train Epoch: 3 [6400/60000 (11%)]\tLoss: 0.002170\n",
      "Train Epoch: 3 [7680/60000 (13%)]\tLoss: 0.001918\n",
      "Train Epoch: 3 [8960/60000 (15%)]\tLoss: 0.001737\n",
      "Train Epoch: 3 [10240/60000 (17%)]\tLoss: 0.001624\n",
      "Train Epoch: 3 [11520/60000 (19%)]\tLoss: 0.001328\n",
      "Train Epoch: 3 [12800/60000 (21%)]\tLoss: 0.000783\n",
      "Train Epoch: 3 [14080/60000 (23%)]\tLoss: 0.001789\n",
      "Train Epoch: 3 [15360/60000 (26%)]\tLoss: 0.002517\n",
      "Train Epoch: 3 [16640/60000 (28%)]\tLoss: 0.001533\n",
      "Train Epoch: 3 [17920/60000 (30%)]\tLoss: 0.001221\n",
      "Train Epoch: 3 [19200/60000 (32%)]\tLoss: 0.001071\n",
      "Train Epoch: 3 [20480/60000 (34%)]\tLoss: 0.001339\n",
      "Train Epoch: 3 [21760/60000 (36%)]\tLoss: 0.001424\n",
      "Train Epoch: 3 [23040/60000 (38%)]\tLoss: 0.001521\n",
      "Train Epoch: 3 [24320/60000 (41%)]\tLoss: 0.001489\n",
      "Train Epoch: 3 [25600/60000 (43%)]\tLoss: 0.002021\n",
      "Train Epoch: 3 [26880/60000 (45%)]\tLoss: 0.002066\n",
      "Train Epoch: 3 [28160/60000 (47%)]\tLoss: 0.001777\n",
      "Train Epoch: 3 [29440/60000 (49%)]\tLoss: 0.002258\n",
      "Train Epoch: 3 [30720/60000 (51%)]\tLoss: 0.001598\n",
      "Train Epoch: 3 [32000/60000 (53%)]\tLoss: 0.001457\n",
      "Train Epoch: 3 [33280/60000 (55%)]\tLoss: 0.001183\n",
      "Train Epoch: 3 [34560/60000 (58%)]\tLoss: 0.001322\n",
      "Train Epoch: 3 [35840/60000 (60%)]\tLoss: 0.001824\n",
      "Train Epoch: 3 [37120/60000 (62%)]\tLoss: 0.001211\n",
      "Train Epoch: 3 [38400/60000 (64%)]\tLoss: 0.001464\n",
      "Train Epoch: 3 [39680/60000 (66%)]\tLoss: 0.002255\n",
      "Train Epoch: 3 [40960/60000 (68%)]\tLoss: 0.001133\n",
      "Train Epoch: 3 [42240/60000 (70%)]\tLoss: 0.000979\n",
      "Train Epoch: 3 [43520/60000 (72%)]\tLoss: 0.001034\n",
      "Train Epoch: 3 [44800/60000 (75%)]\tLoss: 0.002322\n",
      "Train Epoch: 3 [46080/60000 (77%)]\tLoss: 0.001172\n",
      "Train Epoch: 3 [47360/60000 (79%)]\tLoss: 0.001165\n",
      "Train Epoch: 3 [48640/60000 (81%)]\tLoss: 0.002193\n",
      "Train Epoch: 3 [49920/60000 (83%)]\tLoss: 0.000987\n",
      "Train Epoch: 3 [51200/60000 (85%)]\tLoss: 0.001364\n",
      "Train Epoch: 3 [52480/60000 (87%)]\tLoss: 0.001554\n",
      "Train Epoch: 3 [53760/60000 (90%)]\tLoss: 0.001609\n",
      "Train Epoch: 3 [55040/60000 (92%)]\tLoss: 0.001647\n",
      "Train Epoch: 3 [56320/60000 (94%)]\tLoss: 0.001383\n",
      "Train Epoch: 3 [57600/60000 (96%)]\tLoss: 0.002138\n",
      "Train Epoch: 3 [58880/60000 (98%)]\tLoss: 0.002761\n",
      "\n",
      "Test set: Average loss: 0.0315, Accuracy: 9922/10000 (99%)\n",
      "\n",
      "Train time for epoch:  0.34027498960494995 mins.\n",
      "Train Epoch: 4 [0/60000 (0%)]\tLoss: 0.000735\n",
      "Train Epoch: 4 [1280/60000 (2%)]\tLoss: 0.001110\n",
      "Train Epoch: 4 [2560/60000 (4%)]\tLoss: 0.001119\n",
      "Train Epoch: 4 [3840/60000 (6%)]\tLoss: 0.000825\n",
      "Train Epoch: 4 [5120/60000 (9%)]\tLoss: 0.001608\n",
      "Train Epoch: 4 [6400/60000 (11%)]\tLoss: 0.000815\n",
      "Train Epoch: 4 [7680/60000 (13%)]\tLoss: 0.002548\n",
      "Train Epoch: 4 [8960/60000 (15%)]\tLoss: 0.001994\n",
      "Train Epoch: 4 [10240/60000 (17%)]\tLoss: 0.000809\n",
      "Train Epoch: 4 [11520/60000 (19%)]\tLoss: 0.000693\n",
      "Train Epoch: 4 [12800/60000 (21%)]\tLoss: 0.000897\n",
      "Train Epoch: 4 [14080/60000 (23%)]\tLoss: 0.000863\n",
      "Train Epoch: 4 [15360/60000 (26%)]\tLoss: 0.001208\n",
      "Train Epoch: 4 [16640/60000 (28%)]\tLoss: 0.001191\n",
      "Train Epoch: 4 [17920/60000 (30%)]\tLoss: 0.001118\n",
      "Train Epoch: 4 [19200/60000 (32%)]\tLoss: 0.001755\n",
      "Train Epoch: 4 [20480/60000 (34%)]\tLoss: 0.001499\n",
      "Train Epoch: 4 [21760/60000 (36%)]\tLoss: 0.000651\n",
      "Train Epoch: 4 [23040/60000 (38%)]\tLoss: 0.001697\n",
      "Train Epoch: 4 [24320/60000 (41%)]\tLoss: 0.001150\n",
      "Train Epoch: 4 [25600/60000 (43%)]\tLoss: 0.001596\n",
      "Train Epoch: 4 [26880/60000 (45%)]\tLoss: 0.002895\n",
      "Train Epoch: 4 [28160/60000 (47%)]\tLoss: 0.001549\n",
      "Train Epoch: 4 [29440/60000 (49%)]\tLoss: 0.001980\n",
      "Train Epoch: 4 [30720/60000 (51%)]\tLoss: 0.000958\n",
      "Train Epoch: 4 [32000/60000 (53%)]\tLoss: 0.000733\n",
      "Train Epoch: 4 [33280/60000 (55%)]\tLoss: 0.001780\n",
      "Train Epoch: 4 [34560/60000 (58%)]\tLoss: 0.001309\n",
      "Train Epoch: 4 [35840/60000 (60%)]\tLoss: 0.001118\n",
      "Train Epoch: 4 [37120/60000 (62%)]\tLoss: 0.001079\n",
      "Train Epoch: 4 [38400/60000 (64%)]\tLoss: 0.000725\n",
      "Train Epoch: 4 [39680/60000 (66%)]\tLoss: 0.001791\n",
      "Train Epoch: 4 [40960/60000 (68%)]\tLoss: 0.000849\n",
      "Train Epoch: 4 [42240/60000 (70%)]\tLoss: 0.001075\n",
      "Train Epoch: 4 [43520/60000 (72%)]\tLoss: 0.001940\n",
      "Train Epoch: 4 [44800/60000 (75%)]\tLoss: 0.000935\n",
      "Train Epoch: 4 [46080/60000 (77%)]\tLoss: 0.001148\n",
      "Train Epoch: 4 [47360/60000 (79%)]\tLoss: 0.000930\n",
      "Train Epoch: 4 [48640/60000 (81%)]\tLoss: 0.001039\n",
      "Train Epoch: 4 [49920/60000 (83%)]\tLoss: 0.001646\n",
      "Train Epoch: 4 [51200/60000 (85%)]\tLoss: 0.002038\n",
      "Train Epoch: 4 [52480/60000 (87%)]\tLoss: 0.000804\n",
      "Train Epoch: 4 [53760/60000 (90%)]\tLoss: 0.001351\n",
      "Train Epoch: 4 [55040/60000 (92%)]\tLoss: 0.001770\n",
      "Train Epoch: 4 [56320/60000 (94%)]\tLoss: 0.001601\n",
      "Train Epoch: 4 [57600/60000 (96%)]\tLoss: 0.001158\n",
      "Train Epoch: 4 [58880/60000 (98%)]\tLoss: 0.000937\n",
      "\n",
      "Test set: Average loss: 0.0315, Accuracy: 9919/10000 (99%)\n",
      "\n",
      "Train time for epoch:  0.3417686184247335 mins.\n",
      "Train Epoch: 5 [0/60000 (0%)]\tLoss: 0.000869\n",
      "Train Epoch: 5 [1280/60000 (2%)]\tLoss: 0.001687\n",
      "Train Epoch: 5 [2560/60000 (4%)]\tLoss: 0.000511\n",
      "Train Epoch: 5 [3840/60000 (6%)]\tLoss: 0.000937\n",
      "Train Epoch: 5 [5120/60000 (9%)]\tLoss: 0.001549\n",
      "Train Epoch: 5 [6400/60000 (11%)]\tLoss: 0.001831\n",
      "Train Epoch: 5 [7680/60000 (13%)]\tLoss: 0.000668\n",
      "Train Epoch: 5 [8960/60000 (15%)]\tLoss: 0.000873\n",
      "Train Epoch: 5 [10240/60000 (17%)]\tLoss: 0.001673\n",
      "Train Epoch: 5 [11520/60000 (19%)]\tLoss: 0.001158\n",
      "Train Epoch: 5 [12800/60000 (21%)]\tLoss: 0.000470\n",
      "Train Epoch: 5 [14080/60000 (23%)]\tLoss: 0.001595\n",
      "Train Epoch: 5 [15360/60000 (26%)]\tLoss: 0.001563\n",
      "Train Epoch: 5 [16640/60000 (28%)]\tLoss: 0.001140\n",
      "Train Epoch: 5 [17920/60000 (30%)]\tLoss: 0.000815\n",
      "Train Epoch: 5 [19200/60000 (32%)]\tLoss: 0.000972\n",
      "Train Epoch: 5 [20480/60000 (34%)]\tLoss: 0.001412\n",
      "Train Epoch: 5 [21760/60000 (36%)]\tLoss: 0.001477\n",
      "Train Epoch: 5 [23040/60000 (38%)]\tLoss: 0.001158\n",
      "Train Epoch: 5 [24320/60000 (41%)]\tLoss: 0.002003\n",
      "Train Epoch: 5 [25600/60000 (43%)]\tLoss: 0.001046\n",
      "Train Epoch: 5 [26880/60000 (45%)]\tLoss: 0.000384\n",
      "Train Epoch: 5 [28160/60000 (47%)]\tLoss: 0.001720\n",
      "Train Epoch: 5 [29440/60000 (49%)]\tLoss: 0.001318\n",
      "Train Epoch: 5 [30720/60000 (51%)]\tLoss: 0.001103\n",
      "Train Epoch: 5 [32000/60000 (53%)]\tLoss: 0.000473\n",
      "Train Epoch: 5 [33280/60000 (55%)]\tLoss: 0.000842\n",
      "Train Epoch: 5 [34560/60000 (58%)]\tLoss: 0.000707\n",
      "Train Epoch: 5 [35840/60000 (60%)]\tLoss: 0.000610\n",
      "Train Epoch: 5 [37120/60000 (62%)]\tLoss: 0.000860\n",
      "Train Epoch: 5 [38400/60000 (64%)]\tLoss: 0.001684\n",
      "Train Epoch: 5 [39680/60000 (66%)]\tLoss: 0.001214\n",
      "Train Epoch: 5 [40960/60000 (68%)]\tLoss: 0.000883\n",
      "Train Epoch: 5 [42240/60000 (70%)]\tLoss: 0.000631\n",
      "Train Epoch: 5 [43520/60000 (72%)]\tLoss: 0.000957\n",
      "Train Epoch: 5 [44800/60000 (75%)]\tLoss: 0.001415\n",
      "Train Epoch: 5 [46080/60000 (77%)]\tLoss: 0.001774\n",
      "Train Epoch: 5 [47360/60000 (79%)]\tLoss: 0.000586\n",
      "Train Epoch: 5 [48640/60000 (81%)]\tLoss: 0.001196\n",
      "Train Epoch: 5 [49920/60000 (83%)]\tLoss: 0.001734\n",
      "Train Epoch: 5 [51200/60000 (85%)]\tLoss: 0.000492\n",
      "Train Epoch: 5 [52480/60000 (87%)]\tLoss: 0.001012\n",
      "Train Epoch: 5 [53760/60000 (90%)]\tLoss: 0.000538\n",
      "Train Epoch: 5 [55040/60000 (92%)]\tLoss: 0.001144\n",
      "Train Epoch: 5 [56320/60000 (94%)]\tLoss: 0.000882\n",
      "Train Epoch: 5 [57600/60000 (96%)]\tLoss: 0.000818\n",
      "Train Epoch: 5 [58880/60000 (98%)]\tLoss: 0.001259\n",
      "\n",
      "Test set: Average loss: 0.0299, Accuracy: 9917/10000 (99%)\n",
      "\n",
      "Train time for epoch:  0.34317795038223264 mins.\n",
      "Train Epoch: 6 [0/60000 (0%)]\tLoss: 0.000661\n",
      "Train Epoch: 6 [1280/60000 (2%)]\tLoss: 0.000882\n",
      "Train Epoch: 6 [2560/60000 (4%)]\tLoss: 0.000847\n",
      "Train Epoch: 6 [3840/60000 (6%)]\tLoss: 0.001085\n",
      "Train Epoch: 6 [5120/60000 (9%)]\tLoss: 0.001328\n",
      "Train Epoch: 6 [6400/60000 (11%)]\tLoss: 0.001589\n",
      "Train Epoch: 6 [7680/60000 (13%)]\tLoss: 0.000534\n",
      "Train Epoch: 6 [8960/60000 (15%)]\tLoss: 0.000903\n",
      "Train Epoch: 6 [10240/60000 (17%)]\tLoss: 0.000533\n",
      "Train Epoch: 6 [11520/60000 (19%)]\tLoss: 0.000800\n",
      "Train Epoch: 6 [12800/60000 (21%)]\tLoss: 0.000527\n",
      "Train Epoch: 6 [14080/60000 (23%)]\tLoss: 0.001513\n",
      "Train Epoch: 6 [15360/60000 (26%)]\tLoss: 0.001982\n",
      "Train Epoch: 6 [16640/60000 (28%)]\tLoss: 0.000289\n",
      "Train Epoch: 6 [17920/60000 (30%)]\tLoss: 0.000491\n",
      "Train Epoch: 6 [19200/60000 (32%)]\tLoss: 0.001740\n",
      "Train Epoch: 6 [20480/60000 (34%)]\tLoss: 0.001439\n",
      "Train Epoch: 6 [21760/60000 (36%)]\tLoss: 0.000525\n",
      "Train Epoch: 6 [23040/60000 (38%)]\tLoss: 0.001099\n",
      "Train Epoch: 6 [24320/60000 (41%)]\tLoss: 0.000890\n",
      "Train Epoch: 6 [25600/60000 (43%)]\tLoss: 0.001177\n",
      "Train Epoch: 6 [26880/60000 (45%)]\tLoss: 0.000896\n",
      "Train Epoch: 6 [28160/60000 (47%)]\tLoss: 0.000551\n",
      "Train Epoch: 6 [29440/60000 (49%)]\tLoss: 0.000552\n",
      "Train Epoch: 6 [30720/60000 (51%)]\tLoss: 0.000535\n",
      "Train Epoch: 6 [32000/60000 (53%)]\tLoss: 0.000921\n",
      "Train Epoch: 6 [33280/60000 (55%)]\tLoss: 0.000756\n",
      "Train Epoch: 6 [34560/60000 (58%)]\tLoss: 0.000566\n",
      "Train Epoch: 6 [35840/60000 (60%)]\tLoss: 0.000588\n",
      "Train Epoch: 6 [37120/60000 (62%)]\tLoss: 0.000811\n",
      "Train Epoch: 6 [38400/60000 (64%)]\tLoss: 0.001120\n",
      "Train Epoch: 6 [39680/60000 (66%)]\tLoss: 0.001047\n",
      "Train Epoch: 6 [40960/60000 (68%)]\tLoss: 0.000580\n",
      "Train Epoch: 6 [42240/60000 (70%)]\tLoss: 0.000395\n",
      "Train Epoch: 6 [43520/60000 (72%)]\tLoss: 0.001932\n",
      "Train Epoch: 6 [44800/60000 (75%)]\tLoss: 0.001589\n",
      "Train Epoch: 6 [46080/60000 (77%)]\tLoss: 0.000536\n",
      "Train Epoch: 6 [47360/60000 (79%)]\tLoss: 0.001674\n",
      "Train Epoch: 6 [48640/60000 (81%)]\tLoss: 0.000708\n",
      "Train Epoch: 6 [49920/60000 (83%)]\tLoss: 0.001036\n",
      "Train Epoch: 6 [51200/60000 (85%)]\tLoss: 0.000390\n",
      "Train Epoch: 6 [52480/60000 (87%)]\tLoss: 0.000523\n",
      "Train Epoch: 6 [53760/60000 (90%)]\tLoss: 0.000574\n",
      "Train Epoch: 6 [55040/60000 (92%)]\tLoss: 0.001340\n",
      "Train Epoch: 6 [56320/60000 (94%)]\tLoss: 0.000687\n",
      "Train Epoch: 6 [57600/60000 (96%)]\tLoss: 0.000772\n",
      "Train Epoch: 6 [58880/60000 (98%)]\tLoss: 0.001793\n",
      "\n",
      "Test set: Average loss: 0.0282, Accuracy: 9940/10000 (99%)\n",
      "\n",
      "Train time for epoch:  0.343519922097524 mins.\n",
      "Train Epoch: 7 [0/60000 (0%)]\tLoss: 0.000708\n",
      "Train Epoch: 7 [1280/60000 (2%)]\tLoss: 0.001738\n",
      "Train Epoch: 7 [2560/60000 (4%)]\tLoss: 0.000700\n",
      "Train Epoch: 7 [3840/60000 (6%)]\tLoss: 0.001205\n",
      "Train Epoch: 7 [5120/60000 (9%)]\tLoss: 0.000834\n",
      "Train Epoch: 7 [6400/60000 (11%)]\tLoss: 0.000494\n",
      "Train Epoch: 7 [7680/60000 (13%)]\tLoss: 0.001357\n",
      "Train Epoch: 7 [8960/60000 (15%)]\tLoss: 0.000753\n",
      "Train Epoch: 7 [10240/60000 (17%)]\tLoss: 0.001643\n",
      "Train Epoch: 7 [11520/60000 (19%)]\tLoss: 0.000324\n",
      "Train Epoch: 7 [12800/60000 (21%)]\tLoss: 0.001759\n",
      "Train Epoch: 7 [14080/60000 (23%)]\tLoss: 0.001334\n",
      "Train Epoch: 7 [15360/60000 (26%)]\tLoss: 0.000613\n",
      "Train Epoch: 7 [16640/60000 (28%)]\tLoss: 0.001185\n",
      "Train Epoch: 7 [17920/60000 (30%)]\tLoss: 0.001093\n",
      "Train Epoch: 7 [19200/60000 (32%)]\tLoss: 0.000864\n",
      "Train Epoch: 7 [20480/60000 (34%)]\tLoss: 0.000948\n",
      "Train Epoch: 7 [21760/60000 (36%)]\tLoss: 0.000559\n",
      "Train Epoch: 7 [23040/60000 (38%)]\tLoss: 0.000905\n",
      "Train Epoch: 7 [24320/60000 (41%)]\tLoss: 0.000681\n",
      "Train Epoch: 7 [25600/60000 (43%)]\tLoss: 0.000495\n",
      "Train Epoch: 7 [26880/60000 (45%)]\tLoss: 0.000307\n",
      "Train Epoch: 7 [28160/60000 (47%)]\tLoss: 0.001030\n",
      "Train Epoch: 7 [29440/60000 (49%)]\tLoss: 0.000845\n",
      "Train Epoch: 7 [30720/60000 (51%)]\tLoss: 0.000577\n",
      "Train Epoch: 7 [32000/60000 (53%)]\tLoss: 0.000429\n",
      "Train Epoch: 7 [33280/60000 (55%)]\tLoss: 0.000227\n",
      "Train Epoch: 7 [34560/60000 (58%)]\tLoss: 0.000099\n",
      "Train Epoch: 7 [35840/60000 (60%)]\tLoss: 0.000261\n",
      "Train Epoch: 7 [37120/60000 (62%)]\tLoss: 0.000433\n",
      "Train Epoch: 7 [38400/60000 (64%)]\tLoss: 0.000849\n",
      "Train Epoch: 7 [39680/60000 (66%)]\tLoss: 0.000655\n",
      "Train Epoch: 7 [40960/60000 (68%)]\tLoss: 0.000868\n",
      "Train Epoch: 7 [42240/60000 (70%)]\tLoss: 0.000447\n",
      "Train Epoch: 7 [43520/60000 (72%)]\tLoss: 0.000705\n",
      "Train Epoch: 7 [44800/60000 (75%)]\tLoss: 0.001590\n",
      "Train Epoch: 7 [46080/60000 (77%)]\tLoss: 0.001355\n",
      "Train Epoch: 7 [47360/60000 (79%)]\tLoss: 0.000559\n",
      "Train Epoch: 7 [48640/60000 (81%)]\tLoss: 0.000284\n",
      "Train Epoch: 7 [49920/60000 (83%)]\tLoss: 0.001792\n",
      "Train Epoch: 7 [51200/60000 (85%)]\tLoss: 0.000690\n",
      "Train Epoch: 7 [52480/60000 (87%)]\tLoss: 0.000206\n",
      "Train Epoch: 7 [53760/60000 (90%)]\tLoss: 0.000899\n",
      "Train Epoch: 7 [55040/60000 (92%)]\tLoss: 0.000657\n",
      "Train Epoch: 7 [56320/60000 (94%)]\tLoss: 0.000424\n",
      "Train Epoch: 7 [57600/60000 (96%)]\tLoss: 0.000509\n",
      "Train Epoch: 7 [58880/60000 (98%)]\tLoss: 0.002256\n",
      "\n",
      "Test set: Average loss: 0.0275, Accuracy: 9938/10000 (99%)\n",
      "\n",
      "Train time for epoch:  0.34409343798955283 mins.\n",
      "Train Epoch: 8 [0/60000 (0%)]\tLoss: 0.000832\n",
      "Train Epoch: 8 [1280/60000 (2%)]\tLoss: 0.000323\n",
      "Train Epoch: 8 [2560/60000 (4%)]\tLoss: 0.000410\n",
      "Train Epoch: 8 [3840/60000 (6%)]\tLoss: 0.000521\n",
      "Train Epoch: 8 [5120/60000 (9%)]\tLoss: 0.001269\n",
      "Train Epoch: 8 [6400/60000 (11%)]\tLoss: 0.000509\n",
      "Train Epoch: 8 [7680/60000 (13%)]\tLoss: 0.000422\n",
      "Train Epoch: 8 [8960/60000 (15%)]\tLoss: 0.000372\n",
      "Train Epoch: 8 [10240/60000 (17%)]\tLoss: 0.000921\n",
      "Train Epoch: 8 [11520/60000 (19%)]\tLoss: 0.001147\n",
      "Train Epoch: 8 [12800/60000 (21%)]\tLoss: 0.000569\n",
      "Train Epoch: 8 [14080/60000 (23%)]\tLoss: 0.000332\n",
      "Train Epoch: 8 [15360/60000 (26%)]\tLoss: 0.000594\n",
      "Train Epoch: 8 [16640/60000 (28%)]\tLoss: 0.000746\n",
      "Train Epoch: 8 [17920/60000 (30%)]\tLoss: 0.000451\n",
      "Train Epoch: 8 [19200/60000 (32%)]\tLoss: 0.001382\n",
      "Train Epoch: 8 [20480/60000 (34%)]\tLoss: 0.000456\n",
      "Train Epoch: 8 [21760/60000 (36%)]\tLoss: 0.000618\n",
      "Train Epoch: 8 [23040/60000 (38%)]\tLoss: 0.000425\n",
      "Train Epoch: 8 [24320/60000 (41%)]\tLoss: 0.000786\n",
      "Train Epoch: 8 [25600/60000 (43%)]\tLoss: 0.001305\n",
      "Train Epoch: 8 [26880/60000 (45%)]\tLoss: 0.000674\n",
      "Train Epoch: 8 [28160/60000 (47%)]\tLoss: 0.000271\n",
      "Train Epoch: 8 [29440/60000 (49%)]\tLoss: 0.000355\n",
      "Train Epoch: 8 [30720/60000 (51%)]\tLoss: 0.001215\n",
      "Train Epoch: 8 [32000/60000 (53%)]\tLoss: 0.000307\n",
      "Train Epoch: 8 [33280/60000 (55%)]\tLoss: 0.001237\n",
      "Train Epoch: 8 [34560/60000 (58%)]\tLoss: 0.000176\n",
      "Train Epoch: 8 [35840/60000 (60%)]\tLoss: 0.000763\n",
      "Train Epoch: 8 [37120/60000 (62%)]\tLoss: 0.000970\n",
      "Train Epoch: 8 [38400/60000 (64%)]\tLoss: 0.002169\n",
      "Train Epoch: 8 [39680/60000 (66%)]\tLoss: 0.000245\n",
      "Train Epoch: 8 [40960/60000 (68%)]\tLoss: 0.001503\n",
      "Train Epoch: 8 [42240/60000 (70%)]\tLoss: 0.001194\n",
      "Train Epoch: 8 [43520/60000 (72%)]\tLoss: 0.000357\n",
      "Train Epoch: 8 [44800/60000 (75%)]\tLoss: 0.000433\n",
      "Train Epoch: 8 [46080/60000 (77%)]\tLoss: 0.000888\n",
      "Train Epoch: 8 [47360/60000 (79%)]\tLoss: 0.000683\n",
      "Train Epoch: 8 [48640/60000 (81%)]\tLoss: 0.001397\n",
      "Train Epoch: 8 [49920/60000 (83%)]\tLoss: 0.001147\n",
      "Train Epoch: 8 [51200/60000 (85%)]\tLoss: 0.000521\n",
      "Train Epoch: 8 [52480/60000 (87%)]\tLoss: 0.000453\n",
      "Train Epoch: 8 [53760/60000 (90%)]\tLoss: 0.000746\n",
      "Train Epoch: 8 [55040/60000 (92%)]\tLoss: 0.001521\n",
      "Train Epoch: 8 [56320/60000 (94%)]\tLoss: 0.001019\n",
      "Train Epoch: 8 [57600/60000 (96%)]\tLoss: 0.000616\n",
      "Train Epoch: 8 [58880/60000 (98%)]\tLoss: 0.001932\n",
      "\n",
      "Test set: Average loss: 0.0275, Accuracy: 9946/10000 (99%)\n",
      "\n",
      "Train time for epoch:  0.3449637254079183 mins.\n",
      "Train Epoch: 9 [0/60000 (0%)]\tLoss: 0.000655\n",
      "Train Epoch: 9 [1280/60000 (2%)]\tLoss: 0.001088\n",
      "Train Epoch: 9 [2560/60000 (4%)]\tLoss: 0.000471\n",
      "Train Epoch: 9 [3840/60000 (6%)]\tLoss: 0.001605\n",
      "Train Epoch: 9 [5120/60000 (9%)]\tLoss: 0.001718\n",
      "Train Epoch: 9 [6400/60000 (11%)]\tLoss: 0.001720\n",
      "Train Epoch: 9 [7680/60000 (13%)]\tLoss: 0.001205\n",
      "Train Epoch: 9 [8960/60000 (15%)]\tLoss: 0.001675\n",
      "Train Epoch: 9 [10240/60000 (17%)]\tLoss: 0.000227\n",
      "Train Epoch: 9 [11520/60000 (19%)]\tLoss: 0.001169\n",
      "Train Epoch: 9 [12800/60000 (21%)]\tLoss: 0.000692\n",
      "Train Epoch: 9 [14080/60000 (23%)]\tLoss: 0.000745\n",
      "Train Epoch: 9 [15360/60000 (26%)]\tLoss: 0.000675\n",
      "Train Epoch: 9 [16640/60000 (28%)]\tLoss: 0.000819\n",
      "Train Epoch: 9 [17920/60000 (30%)]\tLoss: 0.001296\n",
      "Train Epoch: 9 [19200/60000 (32%)]\tLoss: 0.000617\n",
      "Train Epoch: 9 [20480/60000 (34%)]\tLoss: 0.000324\n",
      "Train Epoch: 9 [21760/60000 (36%)]\tLoss: 0.000707\n",
      "Train Epoch: 9 [23040/60000 (38%)]\tLoss: 0.000670\n",
      "Train Epoch: 9 [24320/60000 (41%)]\tLoss: 0.000856\n",
      "Train Epoch: 9 [25600/60000 (43%)]\tLoss: 0.001561\n",
      "Train Epoch: 9 [26880/60000 (45%)]\tLoss: 0.000246\n",
      "Train Epoch: 9 [28160/60000 (47%)]\tLoss: 0.000672\n",
      "Train Epoch: 9 [29440/60000 (49%)]\tLoss: 0.000958\n",
      "Train Epoch: 9 [30720/60000 (51%)]\tLoss: 0.001106\n",
      "Train Epoch: 9 [32000/60000 (53%)]\tLoss: 0.000264\n",
      "Train Epoch: 9 [33280/60000 (55%)]\tLoss: 0.000464\n",
      "Train Epoch: 9 [34560/60000 (58%)]\tLoss: 0.000807\n",
      "Train Epoch: 9 [35840/60000 (60%)]\tLoss: 0.000468\n",
      "Train Epoch: 9 [37120/60000 (62%)]\tLoss: 0.001248\n",
      "Train Epoch: 9 [38400/60000 (64%)]\tLoss: 0.001704\n",
      "Train Epoch: 9 [39680/60000 (66%)]\tLoss: 0.000540\n",
      "Train Epoch: 9 [40960/60000 (68%)]\tLoss: 0.001256\n",
      "Train Epoch: 9 [42240/60000 (70%)]\tLoss: 0.000806\n",
      "Train Epoch: 9 [43520/60000 (72%)]\tLoss: 0.000508\n",
      "Train Epoch: 9 [44800/60000 (75%)]\tLoss: 0.000491\n",
      "Train Epoch: 9 [46080/60000 (77%)]\tLoss: 0.000479\n",
      "Train Epoch: 9 [47360/60000 (79%)]\tLoss: 0.000364\n",
      "Train Epoch: 9 [48640/60000 (81%)]\tLoss: 0.001371\n",
      "Train Epoch: 9 [49920/60000 (83%)]\tLoss: 0.001261\n",
      "Train Epoch: 9 [51200/60000 (85%)]\tLoss: 0.000824\n",
      "Train Epoch: 9 [52480/60000 (87%)]\tLoss: 0.000792\n",
      "Train Epoch: 9 [53760/60000 (90%)]\tLoss: 0.001022\n",
      "Train Epoch: 9 [55040/60000 (92%)]\tLoss: 0.001393\n",
      "Train Epoch: 9 [56320/60000 (94%)]\tLoss: 0.000843\n",
      "Train Epoch: 9 [57600/60000 (96%)]\tLoss: 0.000116\n",
      "Train Epoch: 9 [58880/60000 (98%)]\tLoss: 0.000416\n",
      "\n",
      "Test set: Average loss: 0.0281, Accuracy: 9933/10000 (99%)\n",
      "\n",
      "Train time for epoch:  0.3496256073315938 mins.\n",
      "Train Epoch: 10 [0/60000 (0%)]\tLoss: 0.001529\n",
      "Train Epoch: 10 [1280/60000 (2%)]\tLoss: 0.000519\n",
      "Train Epoch: 10 [2560/60000 (4%)]\tLoss: 0.000689\n",
      "Train Epoch: 10 [3840/60000 (6%)]\tLoss: 0.000353\n",
      "Train Epoch: 10 [5120/60000 (9%)]\tLoss: 0.000717\n",
      "Train Epoch: 10 [6400/60000 (11%)]\tLoss: 0.000948\n",
      "Train Epoch: 10 [7680/60000 (13%)]\tLoss: 0.000380\n",
      "Train Epoch: 10 [8960/60000 (15%)]\tLoss: 0.000611\n",
      "Train Epoch: 10 [10240/60000 (17%)]\tLoss: 0.000667\n",
      "Train Epoch: 10 [11520/60000 (19%)]\tLoss: 0.000566\n",
      "Train Epoch: 10 [12800/60000 (21%)]\tLoss: 0.000704\n",
      "Train Epoch: 10 [14080/60000 (23%)]\tLoss: 0.000821\n",
      "Train Epoch: 10 [15360/60000 (26%)]\tLoss: 0.000072\n",
      "Train Epoch: 10 [16640/60000 (28%)]\tLoss: 0.000576\n",
      "Train Epoch: 10 [17920/60000 (30%)]\tLoss: 0.001080\n",
      "Train Epoch: 10 [19200/60000 (32%)]\tLoss: 0.000247\n",
      "Train Epoch: 10 [20480/60000 (34%)]\tLoss: 0.000335\n",
      "Train Epoch: 10 [21760/60000 (36%)]\tLoss: 0.001058\n",
      "Train Epoch: 10 [23040/60000 (38%)]\tLoss: 0.000816\n",
      "Train Epoch: 10 [24320/60000 (41%)]\tLoss: 0.000363\n",
      "Train Epoch: 10 [25600/60000 (43%)]\tLoss: 0.000914\n",
      "Train Epoch: 10 [26880/60000 (45%)]\tLoss: 0.000783\n",
      "Train Epoch: 10 [28160/60000 (47%)]\tLoss: 0.001208\n",
      "Train Epoch: 10 [29440/60000 (49%)]\tLoss: 0.001161\n",
      "Train Epoch: 10 [30720/60000 (51%)]\tLoss: 0.000195\n",
      "Train Epoch: 10 [32000/60000 (53%)]\tLoss: 0.000565\n",
      "Train Epoch: 10 [33280/60000 (55%)]\tLoss: 0.001577\n",
      "Train Epoch: 10 [34560/60000 (58%)]\tLoss: 0.000218\n",
      "Train Epoch: 10 [35840/60000 (60%)]\tLoss: 0.000531\n",
      "Train Epoch: 10 [37120/60000 (62%)]\tLoss: 0.000459\n",
      "Train Epoch: 10 [38400/60000 (64%)]\tLoss: 0.001236\n",
      "Train Epoch: 10 [39680/60000 (66%)]\tLoss: 0.001178\n",
      "Train Epoch: 10 [40960/60000 (68%)]\tLoss: 0.000211\n",
      "Train Epoch: 10 [42240/60000 (70%)]\tLoss: 0.000605\n",
      "Train Epoch: 10 [43520/60000 (72%)]\tLoss: 0.000312\n",
      "Train Epoch: 10 [44800/60000 (75%)]\tLoss: 0.000296\n",
      "Train Epoch: 10 [46080/60000 (77%)]\tLoss: 0.000751\n",
      "Train Epoch: 10 [47360/60000 (79%)]\tLoss: 0.000705\n",
      "Train Epoch: 10 [48640/60000 (81%)]\tLoss: 0.000429\n",
      "Train Epoch: 10 [49920/60000 (83%)]\tLoss: 0.000822\n",
      "Train Epoch: 10 [51200/60000 (85%)]\tLoss: 0.001918\n",
      "Train Epoch: 10 [52480/60000 (87%)]\tLoss: 0.001090\n",
      "Train Epoch: 10 [53760/60000 (90%)]\tLoss: 0.002035\n",
      "Train Epoch: 10 [55040/60000 (92%)]\tLoss: 0.000659\n",
      "Train Epoch: 10 [56320/60000 (94%)]\tLoss: 0.000616\n",
      "Train Epoch: 10 [57600/60000 (96%)]\tLoss: 0.000711\n",
      "Train Epoch: 10 [58880/60000 (98%)]\tLoss: 0.000757\n",
      "\n",
      "Test set: Average loss: 0.0276, Accuracy: 9951/10000 (100%)\n",
      "\n",
      "Train time for epoch:  0.3530062913894653 mins.\n",
      "Train Epoch: 11 [0/60000 (0%)]\tLoss: 0.002107\n",
      "Train Epoch: 11 [1280/60000 (2%)]\tLoss: 0.000316\n",
      "Train Epoch: 11 [2560/60000 (4%)]\tLoss: 0.001192\n",
      "Train Epoch: 11 [3840/60000 (6%)]\tLoss: 0.000383\n",
      "Train Epoch: 11 [5120/60000 (9%)]\tLoss: 0.000319\n",
      "Train Epoch: 11 [6400/60000 (11%)]\tLoss: 0.000667\n",
      "Train Epoch: 11 [7680/60000 (13%)]\tLoss: 0.000250\n",
      "Train Epoch: 11 [8960/60000 (15%)]\tLoss: 0.001043\n",
      "Train Epoch: 11 [10240/60000 (17%)]\tLoss: 0.000131\n",
      "Train Epoch: 11 [11520/60000 (19%)]\tLoss: 0.001056\n",
      "Train Epoch: 11 [12800/60000 (21%)]\tLoss: 0.000630\n",
      "Train Epoch: 11 [14080/60000 (23%)]\tLoss: 0.000358\n",
      "Train Epoch: 11 [15360/60000 (26%)]\tLoss: 0.000167\n",
      "Train Epoch: 11 [16640/60000 (28%)]\tLoss: 0.000343\n",
      "Train Epoch: 11 [17920/60000 (30%)]\tLoss: 0.000515\n",
      "Train Epoch: 11 [19200/60000 (32%)]\tLoss: 0.001075\n",
      "Train Epoch: 11 [20480/60000 (34%)]\tLoss: 0.000424\n",
      "Train Epoch: 11 [21760/60000 (36%)]\tLoss: 0.000456\n",
      "Train Epoch: 11 [23040/60000 (38%)]\tLoss: 0.000685\n",
      "Train Epoch: 11 [24320/60000 (41%)]\tLoss: 0.000173\n",
      "Train Epoch: 11 [25600/60000 (43%)]\tLoss: 0.000366\n",
      "Train Epoch: 11 [26880/60000 (45%)]\tLoss: 0.002271\n",
      "Train Epoch: 11 [28160/60000 (47%)]\tLoss: 0.000600\n",
      "Train Epoch: 11 [29440/60000 (49%)]\tLoss: 0.001126\n",
      "Train Epoch: 11 [30720/60000 (51%)]\tLoss: 0.001021\n",
      "Train Epoch: 11 [32000/60000 (53%)]\tLoss: 0.000447\n",
      "Train Epoch: 11 [33280/60000 (55%)]\tLoss: 0.000711\n",
      "Train Epoch: 11 [34560/60000 (58%)]\tLoss: 0.001250\n",
      "Train Epoch: 11 [35840/60000 (60%)]\tLoss: 0.001185\n",
      "Train Epoch: 11 [37120/60000 (62%)]\tLoss: 0.002230\n",
      "Train Epoch: 11 [38400/60000 (64%)]\tLoss: 0.000360\n",
      "Train Epoch: 11 [39680/60000 (66%)]\tLoss: 0.000952\n",
      "Train Epoch: 11 [40960/60000 (68%)]\tLoss: 0.000383\n",
      "Train Epoch: 11 [42240/60000 (70%)]\tLoss: 0.000687\n",
      "Train Epoch: 11 [43520/60000 (72%)]\tLoss: 0.000606\n",
      "Train Epoch: 11 [44800/60000 (75%)]\tLoss: 0.000111\n",
      "Train Epoch: 11 [46080/60000 (77%)]\tLoss: 0.001389\n",
      "Train Epoch: 11 [47360/60000 (79%)]\tLoss: 0.000422\n",
      "Train Epoch: 11 [48640/60000 (81%)]\tLoss: 0.000279\n",
      "Train Epoch: 11 [49920/60000 (83%)]\tLoss: 0.000711\n",
      "Train Epoch: 11 [51200/60000 (85%)]\tLoss: 0.000269\n",
      "Train Epoch: 11 [52480/60000 (87%)]\tLoss: 0.000517\n",
      "Train Epoch: 11 [53760/60000 (90%)]\tLoss: 0.000178\n",
      "Train Epoch: 11 [55040/60000 (92%)]\tLoss: 0.000129\n",
      "Train Epoch: 11 [56320/60000 (94%)]\tLoss: 0.000327\n",
      "Train Epoch: 11 [57600/60000 (96%)]\tLoss: 0.000565\n",
      "Train Epoch: 11 [58880/60000 (98%)]\tLoss: 0.000174\n",
      "\n",
      "Test set: Average loss: 0.0276, Accuracy: 9932/10000 (99%)\n",
      "\n",
      "Train time for epoch:  0.35430585940678916 mins.\n",
      "Train Epoch: 12 [0/60000 (0%)]\tLoss: 0.000262\n",
      "Train Epoch: 12 [1280/60000 (2%)]\tLoss: 0.000775\n",
      "Train Epoch: 12 [2560/60000 (4%)]\tLoss: 0.000960\n",
      "Train Epoch: 12 [3840/60000 (6%)]\tLoss: 0.000887\n",
      "Train Epoch: 12 [5120/60000 (9%)]\tLoss: 0.000263\n",
      "Train Epoch: 12 [6400/60000 (11%)]\tLoss: 0.000111\n",
      "Train Epoch: 12 [7680/60000 (13%)]\tLoss: 0.000748\n",
      "Train Epoch: 12 [8960/60000 (15%)]\tLoss: 0.000256\n",
      "Train Epoch: 12 [10240/60000 (17%)]\tLoss: 0.000859\n",
      "Train Epoch: 12 [11520/60000 (19%)]\tLoss: 0.000148\n",
      "Train Epoch: 12 [12800/60000 (21%)]\tLoss: 0.000365\n",
      "Train Epoch: 12 [14080/60000 (23%)]\tLoss: 0.000517\n",
      "Train Epoch: 12 [15360/60000 (26%)]\tLoss: 0.000136\n",
      "Train Epoch: 12 [16640/60000 (28%)]\tLoss: 0.000340\n",
      "Train Epoch: 12 [17920/60000 (30%)]\tLoss: 0.000627\n",
      "Train Epoch: 12 [19200/60000 (32%)]\tLoss: 0.000304\n",
      "Train Epoch: 12 [20480/60000 (34%)]\tLoss: 0.000172\n",
      "Train Epoch: 12 [21760/60000 (36%)]\tLoss: 0.000683\n",
      "Train Epoch: 12 [23040/60000 (38%)]\tLoss: 0.000635\n",
      "Train Epoch: 12 [24320/60000 (41%)]\tLoss: 0.000310\n",
      "Train Epoch: 12 [25600/60000 (43%)]\tLoss: 0.000544\n",
      "Train Epoch: 12 [26880/60000 (45%)]\tLoss: 0.000184\n",
      "Train Epoch: 12 [28160/60000 (47%)]\tLoss: 0.000517\n",
      "Train Epoch: 12 [29440/60000 (49%)]\tLoss: 0.000134\n",
      "Train Epoch: 12 [30720/60000 (51%)]\tLoss: 0.000114\n",
      "Train Epoch: 12 [32000/60000 (53%)]\tLoss: 0.000354\n",
      "Train Epoch: 12 [33280/60000 (55%)]\tLoss: 0.001066\n",
      "Train Epoch: 12 [34560/60000 (58%)]\tLoss: 0.000485\n",
      "Train Epoch: 12 [35840/60000 (60%)]\tLoss: 0.000459\n",
      "Train Epoch: 12 [37120/60000 (62%)]\tLoss: 0.001247\n",
      "Train Epoch: 12 [38400/60000 (64%)]\tLoss: 0.000204\n",
      "Train Epoch: 12 [39680/60000 (66%)]\tLoss: 0.001349\n",
      "Train Epoch: 12 [40960/60000 (68%)]\tLoss: 0.000644\n",
      "Train Epoch: 12 [42240/60000 (70%)]\tLoss: 0.000374\n",
      "Train Epoch: 12 [43520/60000 (72%)]\tLoss: 0.000093\n",
      "Train Epoch: 12 [44800/60000 (75%)]\tLoss: 0.000688\n",
      "Train Epoch: 12 [46080/60000 (77%)]\tLoss: 0.000283\n",
      "Train Epoch: 12 [47360/60000 (79%)]\tLoss: 0.001031\n",
      "Train Epoch: 12 [48640/60000 (81%)]\tLoss: 0.000921\n",
      "Train Epoch: 12 [49920/60000 (83%)]\tLoss: 0.000765\n",
      "Train Epoch: 12 [51200/60000 (85%)]\tLoss: 0.000589\n",
      "Train Epoch: 12 [52480/60000 (87%)]\tLoss: 0.000489\n",
      "Train Epoch: 12 [53760/60000 (90%)]\tLoss: 0.000681\n",
      "Train Epoch: 12 [55040/60000 (92%)]\tLoss: 0.001234\n",
      "Train Epoch: 12 [56320/60000 (94%)]\tLoss: 0.001415\n",
      "Train Epoch: 12 [57600/60000 (96%)]\tLoss: 0.000281\n",
      "Train Epoch: 12 [58880/60000 (98%)]\tLoss: 0.000459\n",
      "\n",
      "Test set: Average loss: 0.0264, Accuracy: 9946/10000 (99%)\n",
      "\n",
      "Train time for epoch:  0.34692871967951455 mins.\n",
      "Train Epoch: 13 [0/60000 (0%)]\tLoss: 0.000295\n",
      "Train Epoch: 13 [1280/60000 (2%)]\tLoss: 0.000277\n",
      "Train Epoch: 13 [2560/60000 (4%)]\tLoss: 0.000073\n",
      "Train Epoch: 13 [3840/60000 (6%)]\tLoss: 0.000873\n",
      "Train Epoch: 13 [5120/60000 (9%)]\tLoss: 0.001251\n",
      "Train Epoch: 13 [6400/60000 (11%)]\tLoss: 0.000669\n",
      "Train Epoch: 13 [7680/60000 (13%)]\tLoss: 0.001391\n",
      "Train Epoch: 13 [8960/60000 (15%)]\tLoss: 0.000525\n",
      "Train Epoch: 13 [10240/60000 (17%)]\tLoss: 0.000613\n",
      "Train Epoch: 13 [11520/60000 (19%)]\tLoss: 0.000843\n",
      "Train Epoch: 13 [12800/60000 (21%)]\tLoss: 0.000113\n",
      "Train Epoch: 13 [14080/60000 (23%)]\tLoss: 0.000214\n",
      "Train Epoch: 13 [15360/60000 (26%)]\tLoss: 0.000768\n",
      "Train Epoch: 13 [16640/60000 (28%)]\tLoss: 0.000999\n",
      "Train Epoch: 13 [17920/60000 (30%)]\tLoss: 0.000265\n",
      "Train Epoch: 13 [19200/60000 (32%)]\tLoss: 0.000459\n",
      "Train Epoch: 13 [20480/60000 (34%)]\tLoss: 0.000162\n",
      "Train Epoch: 13 [21760/60000 (36%)]\tLoss: 0.000362\n",
      "Train Epoch: 13 [23040/60000 (38%)]\tLoss: 0.000158\n",
      "Train Epoch: 13 [24320/60000 (41%)]\tLoss: 0.000847\n",
      "Train Epoch: 13 [25600/60000 (43%)]\tLoss: 0.000296\n",
      "Train Epoch: 13 [26880/60000 (45%)]\tLoss: 0.000157\n",
      "Train Epoch: 13 [28160/60000 (47%)]\tLoss: 0.000412\n",
      "Train Epoch: 13 [29440/60000 (49%)]\tLoss: 0.000513\n",
      "Train Epoch: 13 [30720/60000 (51%)]\tLoss: 0.000447\n",
      "Train Epoch: 13 [32000/60000 (53%)]\tLoss: 0.000359\n",
      "Train Epoch: 13 [33280/60000 (55%)]\tLoss: 0.000711\n",
      "Train Epoch: 13 [34560/60000 (58%)]\tLoss: 0.001209\n",
      "Train Epoch: 13 [35840/60000 (60%)]\tLoss: 0.000528\n",
      "Train Epoch: 13 [37120/60000 (62%)]\tLoss: 0.000577\n",
      "Train Epoch: 13 [38400/60000 (64%)]\tLoss: 0.001151\n",
      "Train Epoch: 13 [39680/60000 (66%)]\tLoss: 0.000321\n",
      "Train Epoch: 13 [40960/60000 (68%)]\tLoss: 0.000586\n",
      "Train Epoch: 13 [42240/60000 (70%)]\tLoss: 0.000845\n",
      "Train Epoch: 13 [43520/60000 (72%)]\tLoss: 0.000807\n",
      "Train Epoch: 13 [44800/60000 (75%)]\tLoss: 0.000319\n",
      "Train Epoch: 13 [46080/60000 (77%)]\tLoss: 0.000583\n",
      "Train Epoch: 13 [47360/60000 (79%)]\tLoss: 0.000395\n",
      "Train Epoch: 13 [48640/60000 (81%)]\tLoss: 0.001036\n",
      "Train Epoch: 13 [49920/60000 (83%)]\tLoss: 0.000421\n",
      "Train Epoch: 13 [51200/60000 (85%)]\tLoss: 0.000902\n",
      "Train Epoch: 13 [52480/60000 (87%)]\tLoss: 0.001589\n",
      "Train Epoch: 13 [53760/60000 (90%)]\tLoss: 0.000631\n",
      "Train Epoch: 13 [55040/60000 (92%)]\tLoss: 0.002144\n",
      "Train Epoch: 13 [56320/60000 (94%)]\tLoss: 0.000321\n",
      "Train Epoch: 13 [57600/60000 (96%)]\tLoss: 0.000409\n",
      "Train Epoch: 13 [58880/60000 (98%)]\tLoss: 0.001101\n",
      "\n",
      "Test set: Average loss: 0.0290, Accuracy: 9916/10000 (99%)\n",
      "\n",
      "Train time for epoch:  0.341346800327301 mins.\n"
     ]
    }
   ],
   "source": [
    "session_number = str(time.time()).split('.')[0]\n",
    "datapath = f'data/{model_type}_recon{with_reconstruction}_iters{routing_iterations}_session{session_number}'\n",
    "os.makedirs(datapath)\n",
    "\n",
    "\n",
    "train_losses = []\n",
    "test_losses = []\n",
    "if with_reconstruction:\n",
    "    margin_losses = []\n",
    "    recon_losses = []\n",
    "\n",
    "start = time.time()\n",
    "for epoch in range(1, epochs + 1):\n",
    "    train_loss, outputs, probabilities = train(epoch, with_reconstruction)\n",
    "    train_losses.append(train_loss[\"total\"])\n",
    "\n",
    "    if with_reconstruction:\n",
    "        margin_losses.append(train_loss[\"margin\"])\n",
    "        recon_losses.append(train_loss[\"recon\"])\n",
    "\n",
    "    test_loss = test(with_reconstruction)\n",
    "    if cuda:\n",
    "        test_losses.append(test_loss.cpu().numpy())\n",
    "    else:\n",
    "        test_losses.append(test_loss.numpy())\n",
    "\n",
    "\n",
    "    scheduler.step(test_loss)\n",
    "\n",
    "    torch.save(model.state_dict(),\n",
    "        '{}/{}_{:03d}_model_dict_{}routing_reconstruction{}.pth'.format(\n",
    "            datapath, model_type, epoch, routing_iterations, with_reconstruction\n",
    "        )\n",
    "    )\n",
    "\n",
    "    np.save(f'{datapath}/{model_type}_{epoch:03d}_train_losses', train_losses)\n",
    "    np.save(f'{datapath}/{model_type}_{epoch:03d}_test_losses', test_losses)\n",
    "\n",
    "    np.save(f'{datapath}/{model_type}_{epoch:03d}_outputs', outputs)\n",
    "    np.save(f'{datapath}/{model_type}_{epoch:03d}_probabilities', probabilities)\n",
    "\n",
    "    if with_reconstruction:\n",
    "        np.save(f'{datapath}/{model_type}_{epoch:03d}_recon_losses', recon_losses)\n",
    "        np.save(f'{datapath}/{model_type}_{epoch:03d}_margin_losses', margin_losses)\n",
    "    \n",
    "    train_time = time.time() - start\n",
    "    print(\"Train time for epoch: \", f\"{train_time/60} mins.\")\n",
    "    start = time.time()\n"
   ]
  },
  {
   "cell_type": "markdown",
   "id": "d84df3fe-27e5-486f-a0d2-d98e23f7d9e3",
   "metadata": {},
   "source": [
    "# PC Inference"
   ]
  },
  {
   "cell_type": "markdown",
   "id": "653e847f-e77a-4b5b-b7e0-f5564d3f96e7",
   "metadata": {},
   "source": [
    "### Optionally load pretrained model"
   ]
  },
  {
   "cell_type": "code",
   "execution_count": 46,
   "id": "97c227be-8e99-4fa1-bf47-b802fb0aac30",
   "metadata": {},
   "outputs": [],
   "source": [
    "STANDARD_PATH = 'data/models/standard/final_weights.pth'\n",
    "STANDARD_NO_RECON_PATH = 'data/models/no_reconstruction/standard/final_weights.pth'\n",
    "NO_ROUTING_PATH = 'data/models/no_routing/final_weights.pth'\n",
    "NO_ROUTING_NO_RECON_PATH = 'data/models/no_reconstruction/no_routing/final_weights.pth'\n",
    "\n",
    "NRNRP = 'data/standard_reconFalse_iters0_session_13epochs/standard_013_model_dict_0routing_reconstructionFalse.pth'\n",
    "SNRP = 'data/standard_reconFalse_iters3_session_13epochs/standard_012_model_dict_3routing_reconstructionFalse.pth'\n",
    "\n",
    "def load_model(with_routing=True, with_reconstruction=True):\n",
    "    if with_routing:\n",
    "        if with_reconstruction:\n",
    "            print(\"Loading standard CapsNet...\")\n",
    "            model = CapsNet(routing_iterations=3)\n",
    "            reconstruction_model = ReconstructionNet(16, 10)\n",
    "            model = CapsNetWithReconstruction(model, reconstruction_model)\n",
    "            path = STANDARD_PATH\n",
    "            reconstruction_alpha = 0.0005\n",
    "        else:            \n",
    "            print(\"Loading standard CapsNet with no reconstruction...\")\n",
    "            model = CapsNet(routing_iterations=3)\n",
    "            path = STANDARD_NO_RECON_PATH\n",
    "    else:\n",
    "        if with_reconstruction:\n",
    "            model = CapsNet(routing_iterations=0)\n",
    "            reconstruction_model = ReconstructionNet(16, 10)\n",
    "            model = CapsNetWithReconstruction(model, reconstruction_model)\n",
    "            print(\"Loading CapsNet without routing...\")\n",
    "            path = NO_ROUTING_PATH\n",
    "            reconstruction_alpha = 0.0005\n",
    "        else:\n",
    "            model = PCCapsNet(routing_iterations=0)\n",
    "            print(\"Loading CapsNet without routing or reconstruction...\")\n",
    "            path = NO_ROUTING_NO_RECON_PATH\n",
    "\n",
    "    if cuda:\n",
    "        model.cuda()\n",
    "    model.load_state_dict(torch.load(path))\n",
    "\n",
    "    return model\n",
    "    "
   ]
  },
  {
   "cell_type": "code",
   "execution_count": 239,
   "id": "93b062cb-695c-47df-8b2f-33c87526362c",
   "metadata": {},
   "outputs": [],
   "source": [
    "def get_digit_caps(model, image, with_reconstruction=True):\n",
    "    if with_reconstruction:\n",
    "        model = model.capsnet\n",
    "    with torch.no_grad():\n",
    "        input_ = Variable(image.unsqueeze(0))\n",
    "        digit_caps, probs = model(input_)\n",
    "        return digit_caps, probs\n",
    "\n",
    "\n",
    "def plot_caps_activations(data, epoch, num_datapoints=10, ymin=-0.5, ymax=0.5):\n",
    "    outputs = []\n",
    "    for batch in data[:num_datapoints]:\n",
    "        print(batch[0].shape)\n",
    "        fig, axes = plt.subplots(1, 10)\n",
    "        for idx, ax in enumerate(axes):\n",
    "            ax.bar(range(16), batch[idx][0])\n",
    "            ax.set_ylim([ymin, ymax])\n",
    "            ax.xaxis.set_ticklabels([])\n",
    "            ax.xaxis.set_ticks([])\n",
    "            ax.set_xlabel(idx)\n",
    "            if idx > 0:\n",
    "                ax.yaxis.set_ticklabels([])\n",
    "        plt.show()\n",
    "\n",
    "        \n",
    "def plot_caps_activations_single(digitcaps, ymin=-0.5, ymax=0.5):\n",
    "    fig, axes = plt.subplots(1, 10)\n",
    "    for idx, ax in enumerate(axes):\n",
    "        ax.bar(range(16), digitcaps[0][idx])\n",
    "        ax.set_ylim([ymin, ymax])\n",
    "        ax.xaxis.set_ticklabels([])\n",
    "        ax.xaxis.set_ticks([])\n",
    "        ax.set_xlabel(idx)\n",
    "        if idx > 0:\n",
    "            ax.yaxis.set_ticklabels([])\n",
    "    plt.show()\n",
    "        \n",
    "\n",
    "def get_n_examples(n=5, loader=inference_loader):\n",
    "    images, labels = [], []\n",
    "    for i in range(n):\n",
    "        image_tensor, label = next(iter(inference_loader))\n",
    "        images.append(image_tensor)\n",
    "        labels.append(label)\n",
    "    return {\"images\": images, \"labels\": labels}\n",
    "\n",
    "\n",
    "def infer_one_example(x, targets, model=model, num_steps=500, lr=1e-2, momentum=0., loss_fn=standard_pc_error, with_reconstruction=True):\n",
    "    if with_reconstruction:\n",
    "        model = model.capsnet\n",
    "        \n",
    "    model.eval()\n",
    "    for param in model.parameters():\n",
    "        param.requires_grad = False\n",
    "    \n",
    "    conv1_out = model.conv1(x).float()\n",
    "    primaryCaps_out = model.primaryCaps(conv1_out).float()\n",
    "    digitCaps_out = model.digitCaps(primaryCaps_out).float()\n",
    "    probs = digitCaps_out.pow(2).sum(dim=2).sqrt()\n",
    "\n",
    "    input_x = nn.Parameter(x)\n",
    "    conv1_x = nn.Parameter(conv1_out)\n",
    "    primaryCaps_x = nn.Parameter(primaryCaps_out)\n",
    "    digitCaps_x = nn.Parameter(digitCaps_out)\n",
    "\n",
    "    # One-hot encode target\n",
    "    t = torch.zeros(torch.Size([targets.size()[0], model.n_classes])).long()\n",
    "    if targets.is_cuda:\n",
    "        t = t.cuda()\n",
    "    t = t.scatter_(1, targets.data.view(-1, 1), 1)\n",
    "    targets = Variable(t)\n",
    "\n",
    "    activations = []\n",
    "    l2_norms = []\n",
    "    losses = []\n",
    "\n",
    "    opt = optim.SGD([input_x, conv1_x, primaryCaps_x, digitCaps_x], lr=lr, momentum=momentum)\n",
    "    opt.zero_grad()\n",
    "\n",
    "    for step in range(num_steps):\n",
    "        opt.zero_grad()\n",
    "\n",
    "        x_errors = input_x - x\n",
    "        conv1_errors = conv1_x - model.conv1(x)            \n",
    "        primaryCaps_errors = primaryCaps_x - model.primaryCaps(conv1_x)\n",
    "        # primaryCaps_errors = primaryCaps_x - primaryCaps_out\n",
    "        digitCaps_errors = digitCaps_x - model.digitCaps(primaryCaps_x)\n",
    "        probs = digitCaps_x.pow(2).sum(dim=2).sqrt()\n",
    "        output_errors = probs - targets\n",
    "\n",
    "        loss = loss_fn(output_errors, digitCaps_x) \\\n",
    "            + standard_pc_error(digitCaps_errors, _) \\\n",
    "            + standard_pc_error(primaryCaps_errors, _) \\\n",
    "            + standard_pc_error(conv1_errors, _) \\\n",
    "            + standard_pc_error(x_errors, _)\n",
    "        \n",
    "        # loss = loss_fn(output_errors, digitCaps_x)\n",
    "        if step%100==0:\n",
    "            print(\"loss\", loss)\n",
    "\n",
    "        loss.backward()            \n",
    "        opt.step()\n",
    "\n",
    "        activations.append(digitCaps_out.detach().cpu().numpy())\n",
    "        l2_norms.append(probs.detach().cpu().numpy())\n",
    "        losses.append(loss.detach().cpu().numpy())\n",
    "\n",
    "    for param in model.parameters():\n",
    "        param.requires_grad = True\n",
    "\n",
    "    return digitCaps_x.detach().cpu().numpy(), probs\n",
    "\n",
    "\n",
    "def add_labels(plot, x,y, upper=False):\n",
    "    for i in range(len(x)):\n",
    "        e = 13.3\n",
    "        if not upper:\n",
    "            e = np.Inf\n",
    "        plot.text(i, min(e,int(y[i]) + 1.1), int(y[i]), ha = 'center')\n",
    "        \n",
    "        \n",
    "def plot_results(num_examples=5, model_type=\"routing\", loader=inference_loader, recon=True, data=None, lr=1e-2, num_steps=500):\n",
    "\n",
    "    assert model_type in [\"routing\", \"no_routing\", \"iterative\", \"iterative_l1\"]\n",
    "    \n",
    "    if model_type == \"routing\":\n",
    "        if recon:\n",
    "            model = load_model()\n",
    "        else:\n",
    "            model = load_model(with_reconstruction=False)\n",
    "    else:\n",
    "        if recon:\n",
    "            model = load_model(with_routing=False)\n",
    "        else:\n",
    "            model = load_model(with_routing=False, with_reconstruction=False)    \n",
    "    model.eval()\n",
    "    \n",
    "    images = []\n",
    "    if data is not None:\n",
    "        images = [data[\"images\"][i].numpy()[0][0] for i in range(num_examples)]\n",
    "\n",
    "    ymin, ymax = -0.5, 0.5\n",
    "\n",
    "    for i in range(num_examples):\n",
    "        if data is not None:\n",
    "            image_tensor, label = data[\"images\"][i], data[\"labels\"][i]\n",
    "        else:\n",
    "            image_tensor, label = next(iter(loader))\n",
    "            images.append(image_tensor.numpy()[0][0])\n",
    "        if cuda:\n",
    "            image_tensor, label = image_tensor.cuda(), label.cuda()\n",
    "        image_tensor, label = Variable(image_tensor), Variable(label)\n",
    "        \n",
    "        fig, axs = plt.subplots(1, 11, figsize=(8, 1))\n",
    "        ax = axs[0]\n",
    "        ax.imshow(images[i], cmap='gray')\n",
    "        ax.xaxis.set_ticklabels([])\n",
    "        ax.xaxis.set_ticks([])\n",
    "        ax.yaxis.set_ticklabels([])\n",
    "        ax.yaxis.set_ticks([])\n",
    "\n",
    "        print(image_tensor.shape)\n",
    "        if model_type in [\"routing\", \"no_routing\"]:\n",
    "            digit_caps, probs = get_digit_caps(model, image_tensor[0], with_reconstruction=recon)\n",
    "            digit_caps = digit_caps.detach().cpu().numpy()\n",
    "            probs = probs.detach().cpu().numpy()\n",
    "        elif model_type == \"iterative\":\n",
    "            digit_caps, probs = infer_one_example(image_tensor, label, model, with_reconstruction=recon, num_steps=num_steps, lr=lr)\n",
    "            probs = probs.detach().cpu().numpy()\n",
    "        elif model_type == \"iterative_l1\":\n",
    "            digit_caps, probs = infer_one_example(image_tensor, label, model, loss_fn=pc_plus_capsules_l1, with_reconstruction=recon, num_steps=num_steps, lr=lr)\n",
    "            probs = probs.detach().cpu().numpy()\n",
    "        print(digit_caps.shape)\n",
    "                \n",
    "        for idx in range(1, 11):\n",
    "            ax = axs[idx]\n",
    "            if idx-1 == label:\n",
    "                for spine in ax.spines.values():\n",
    "                    spine.set_edgecolor('red')\n",
    "            ax.bar(range(16), digit_caps[0][idx-1])\n",
    "            ax.set_ylim([ymin, ymax])\n",
    "            ax.xaxis.set_ticklabels([])\n",
    "            ax.xaxis.set_ticks([])\n",
    "            ax.set_xlabel(idx-1)\n",
    "            ax.title.set_text(round(probs[0][idx-1], 2))\n",
    "            \n",
    "            if idx < 10:\n",
    "                ax.yaxis.set_ticklabels([])\n",
    "                ax.yaxis.set_ticks([])\n",
    "            else:\n",
    "                ax.yaxis.tick_right()\n",
    "\n",
    "    plt.savefig(f\"samples/caps_{model_type}_{time.time()}.png\")\n",
    "    plt.show()\n"
   ]
  },
  {
   "cell_type": "code",
   "execution_count": 238,
   "id": "16931e0a-a239-4e21-96c4-62d65201381f",
   "metadata": {
    "tags": []
   },
   "outputs": [
    {
     "name": "stdout",
     "output_type": "stream",
     "text": [
      "3-routing model:\n",
      "Loading standard CapsNet...\n",
      "torch.Size([1, 1, 28, 28])\n",
      "(1, 10, 16)\n"
     ]
    },
    {
     "name": "stderr",
     "output_type": "stream",
     "text": [
      "/tmp/ipykernel_51/616523331.py:47: UserWarning: Implicit dimension choice for softmax has been deprecated. Change the call to include dim=X as an argument.\n",
      "  c = F.softmax(self.b)\n",
      "/tmp/ipykernel_51/616523331.py:57: UserWarning: Implicit dimension choice for softmax has been deprecated. Change the call to include dim=X as an argument.\n",
      "  c = F.softmax(b_batch.view(-1, output_caps)).view(-1, input_caps, output_caps, 1)\n"
     ]
    },
    {
     "name": "stdout",
     "output_type": "stream",
     "text": [
      "torch.Size([1, 1, 28, 28])\n",
      "(1, 10, 16)\n",
      "torch.Size([1, 1, 28, 28])\n",
      "(1, 10, 16)\n",
      "torch.Size([1, 1, 28, 28])\n",
      "(1, 10, 16)\n",
      "torch.Size([1, 1, 28, 28])\n",
      "(1, 10, 16)\n"
     ]
    },
    {
     "data": {
      "image/png": "[encoded data removed]",
      "text/plain": [
       "<Figure size 576x72 with 11 Axes>"
      ]
     },
     "metadata": {
      "needs_background": "light"
     },
     "output_type": "display_data"
    },
    {
     "data": {
      "image/png": "[encoded data removed]",
      "text/plain": [
       "<Figure size 576x72 with 11 Axes>"
      ]
     },
     "metadata": {
      "needs_background": "light"
     },
     "output_type": "display_data"
    },
    {
     "data": {
      "image/png": "[encoded data removed]",
      "text/plain": [
       "<Figure size 576x72 with 11 Axes>"
      ]
     },
     "metadata": {
      "needs_background": "light"
     },
     "output_type": "display_data"
    },
    {
     "data": {
      "image/png": "[encoded data removed]",
      "text/plain": [
       "<Figure size 576x72 with 11 Axes>"
      ]
     },
     "metadata": {
      "needs_background": "light"
     },
     "output_type": "display_data"
    },
    {
     "data": {
      "image/png": "[encoded data removed]",
      "text/plain": [
       "<Figure size 576x72 with 11 Axes>"
      ]
     },
     "metadata": {
      "needs_background": "light"
     },
     "output_type": "display_data"
    },
    {
     "name": "stdout",
     "output_type": "stream",
     "text": [
      "0-routing model:\n",
      "Loading CapsNet without routing...\n",
      "torch.Size([1, 1, 28, 28])\n",
      "(1, 10, 16)\n",
      "torch.Size([1, 1, 28, 28])\n",
      "(1, 10, 16)\n",
      "torch.Size([1, 1, 28, 28])\n",
      "(1, 10, 16)\n",
      "torch.Size([1, 1, 28, 28])\n",
      "(1, 10, 16)\n",
      "torch.Size([1, 1, 28, 28])\n",
      "(1, 10, 16)\n"
     ]
    },
    {
     "data": {
      "image/png": "[encoded data removed]",
      "text/plain": [
       "<Figure size 576x72 with 11 Axes>"
      ]
     },
     "metadata": {
      "needs_background": "light"
     },
     "output_type": "display_data"
    },
    {
     "data": {
      "image/png": "[encoded data removed]",
      "text/plain": [
       "<Figure size 576x72 with 11 Axes>"
      ]
     },
     "metadata": {
      "needs_background": "light"
     },
     "output_type": "display_data"
    },
    {
     "data": {
      "image/png": "[encoded data removed]",
      "text/plain": [
       "<Figure size 576x72 with 11 Axes>"
      ]
     },
     "metadata": {
      "needs_background": "light"
     },
     "output_type": "display_data"
    },
    {
     "data": {
      "image/png": "[encoded data removed]",
      "text/plain": [
       "<Figure size 576x72 with 11 Axes>"
      ]
     },
     "metadata": {
      "needs_background": "light"
     },
     "output_type": "display_data"
    },
    {
     "data": {
      "image/png": "[encoded data removed]",
      "text/plain": [
       "<Figure size 576x72 with 11 Axes>"
      ]
     },
     "metadata": {
      "needs_background": "light"
     },
     "output_type": "display_data"
    },
    {
     "name": "stdout",
     "output_type": "stream",
     "text": [
      "iterative model:\n",
      "Loading CapsNet without routing...\n",
      "torch.Size([1, 1, 28, 28])\n",
      "loss tensor(7.7689, device='cuda:0', grad_fn=<AddBackward0>)\n",
      "loss tensor(3.6949, device='cuda:0', grad_fn=<AddBackward0>)\n",
      "loss tensor(3.6521, device='cuda:0', grad_fn=<AddBackward0>)\n",
      "loss tensor(3.6470, device='cuda:0', grad_fn=<AddBackward0>)\n",
      "loss tensor(3.6460, device='cuda:0', grad_fn=<AddBackward0>)\n",
      "(1, 10, 16)\n",
      "torch.Size([1, 1, 28, 28])\n",
      "loss tensor(8.0664, device='cuda:0', grad_fn=<AddBackward0>)\n",
      "loss tensor(3.8371, device='cuda:0', grad_fn=<AddBackward0>)\n",
      "loss tensor(3.7930, device='cuda:0', grad_fn=<AddBackward0>)\n",
      "loss tensor(3.7892, device='cuda:0', grad_fn=<AddBackward0>)\n",
      "loss tensor(3.7887, device='cuda:0', grad_fn=<AddBackward0>)\n",
      "(1, 10, 16)\n",
      "torch.Size([1, 1, 28, 28])\n",
      "loss tensor(8.4743, device='cuda:0', grad_fn=<AddBackward0>)\n",
      "loss tensor(4.1242, device='cuda:0', grad_fn=<AddBackward0>)\n",
      "loss tensor(4.0910, device='cuda:0', grad_fn=<AddBackward0>)\n",
      "loss tensor(4.0847, device='cuda:0', grad_fn=<AddBackward0>)\n",
      "loss tensor(4.0821, device='cuda:0', grad_fn=<AddBackward0>)\n",
      "(1, 10, 16)\n",
      "torch.Size([1, 1, 28, 28])\n",
      "loss tensor(7.5541, device='cuda:0', grad_fn=<AddBackward0>)\n",
      "loss tensor(3.6366, device='cuda:0', grad_fn=<AddBackward0>)\n",
      "loss tensor(3.6075, device='cuda:0', grad_fn=<AddBackward0>)\n",
      "loss tensor(3.6039, device='cuda:0', grad_fn=<AddBackward0>)\n",
      "loss tensor(3.6034, device='cuda:0', grad_fn=<AddBackward0>)\n",
      "(1, 10, 16)\n",
      "torch.Size([1, 1, 28, 28])\n",
      "loss tensor(8.5023, device='cuda:0', grad_fn=<AddBackward0>)\n",
      "loss tensor(4.1598, device='cuda:0', grad_fn=<AddBackward0>)\n",
      "loss tensor(4.1345, device='cuda:0', grad_fn=<AddBackward0>)\n",
      "loss tensor(4.1314, device='cuda:0', grad_fn=<AddBackward0>)\n",
      "loss tensor(4.1307, device='cuda:0', grad_fn=<AddBackward0>)\n",
      "(1, 10, 16)\n"
     ]
    },
    {
     "data": {
      "image/png": "[encoded data removed]",
      "text/plain": [
       "<Figure size 576x72 with 11 Axes>"
      ]
     },
     "metadata": {
      "needs_background": "light"
     },
     "output_type": "display_data"
    },
    {
     "data": {
      "image/png": "[encoded data removed]",
      "text/plain": [
       "<Figure size 576x72 with 11 Axes>"
      ]
     },
     "metadata": {
      "needs_background": "light"
     },
     "output_type": "display_data"
    },
    {
     "data": {
      "image/png": "[encoded data removed]",
      "text/plain": [
       "<Figure size 576x72 with 11 Axes>"
      ]
     },
     "metadata": {
      "needs_background": "light"
     },
     "output_type": "display_data"
    },
    {
     "data": {
      "image/png": "[encoded data removed]",
      "text/plain": [
       "<Figure size 576x72 with 11 Axes>"
      ]
     },
     "metadata": {
      "needs_background": "light"
     },
     "output_type": "display_data"
    },
    {
     "data": {
      "image/png": "[encoded data removed]",
      "text/plain": [
       "<Figure size 576x72 with 11 Axes>"
      ]
     },
     "metadata": {
      "needs_background": "light"
     },
     "output_type": "display_data"
    },
    {
     "name": "stdout",
     "output_type": "stream",
     "text": [
      "iterative model plus L1:\n",
      "Loading CapsNet without routing...\n",
      "torch.Size([1, 1, 28, 28])\n",
      "loss tensor(16.8681, device='cuda:0', grad_fn=<AddBackward0>)\n",
      "loss tensor(7.1742, device='cuda:0', grad_fn=<AddBackward0>)\n",
      "loss tensor(7.1150, device='cuda:0', grad_fn=<AddBackward0>)\n",
      "loss tensor(7.1072, device='cuda:0', grad_fn=<AddBackward0>)\n",
      "loss tensor(7.1064, device='cuda:0', grad_fn=<AddBackward0>)\n",
      "(1, 10, 16)\n",
      "torch.Size([1, 1, 28, 28])\n",
      "loss tensor(17.8091, device='cuda:0', grad_fn=<AddBackward0>)\n",
      "loss tensor(7.8475, device='cuda:0', grad_fn=<AddBackward0>)\n",
      "loss tensor(7.7713, device='cuda:0', grad_fn=<AddBackward0>)\n",
      "loss tensor(7.6807, device='cuda:0', grad_fn=<AddBackward0>)\n",
      "loss tensor(7.6477, device='cuda:0', grad_fn=<AddBackward0>)\n",
      "(1, 10, 16)\n",
      "torch.Size([1, 1, 28, 28])\n",
      "loss tensor(16.7539, device='cuda:0', grad_fn=<AddBackward0>)\n",
      "loss tensor(7.0574, device='cuda:0', grad_fn=<AddBackward0>)\n",
      "loss tensor(6.9981, device='cuda:0', grad_fn=<AddBackward0>)\n",
      "loss tensor(6.9882, device='cuda:0', grad_fn=<AddBackward0>)\n",
      "loss tensor(6.9898, device='cuda:0', grad_fn=<AddBackward0>)\n",
      "(1, 10, 16)\n",
      "torch.Size([1, 1, 28, 28])\n",
      "loss tensor(17.6566, device='cuda:0', grad_fn=<AddBackward0>)\n",
      "loss tensor(7.4670, device='cuda:0', grad_fn=<AddBackward0>)\n",
      "loss tensor(7.3674, device='cuda:0', grad_fn=<AddBackward0>)\n",
      "loss tensor(7.3444, device='cuda:0', grad_fn=<AddBackward0>)\n",
      "loss tensor(7.3424, device='cuda:0', grad_fn=<AddBackward0>)\n",
      "(1, 10, 16)\n",
      "torch.Size([1, 1, 28, 28])\n",
      "loss tensor(16.8299, device='cuda:0', grad_fn=<AddBackward0>)\n",
      "loss tensor(7.0781, device='cuda:0', grad_fn=<AddBackward0>)\n",
      "loss tensor(6.9716, device='cuda:0', grad_fn=<AddBackward0>)\n",
      "loss tensor(6.9499, device='cuda:0', grad_fn=<AddBackward0>)\n",
      "loss tensor(6.9509, device='cuda:0', grad_fn=<AddBackward0>)\n",
      "(1, 10, 16)\n"
     ]
    },
    {
     "data": {
      "image/png": "[encoded data removed]",
      "text/plain": [
       "<Figure size 576x72 with 11 Axes>"
      ]
     },
     "metadata": {
      "needs_background": "light"
     },
     "output_type": "display_data"
    },
    {
     "data": {
      "image/png": "[encoded data removed]",
      "text/plain": [
       "<Figure size 576x72 with 11 Axes>"
      ]
     },
     "metadata": {
      "needs_background": "light"
     },
     "output_type": "display_data"
    },
    {
     "data": {
      "image/png": "[encoded data removed]",
      "text/plain": [
       "<Figure size 576x72 with 11 Axes>"
      ]
     },
     "metadata": {
      "needs_background": "light"
     },
     "output_type": "display_data"
    },
    {
     "data": {
      "image/png": "[encoded data removed]",
      "text/plain": [
       "<Figure size 576x72 with 11 Axes>"
      ]
     },
     "metadata": {
      "needs_background": "light"
     },
     "output_type": "display_data"
    },
    {
     "data": {
      "image/png": "[encoded data removed]",
      "text/plain": [
       "<Figure size 576x72 with 11 Axes>"
      ]
     },
     "metadata": {
      "needs_background": "light"
     },
     "output_type": "display_data"
    }
   ],
   "source": [
    "print(\"3-routing model:\")\n",
    "plot_results(model_type=\"routing\")\n",
    "\n",
    "print(\"0-routing model:\")\n",
    "plot_results(model_type=\"no_routing\")\n",
    "\n",
    "print(\"iterative model:\")\n",
    "plot_results(model_type=\"iterative\")\n",
    "\n",
    "print(\"iterative model plus L1:\")\n",
    "plot_results(model_type=\"iterative_l1\")\n",
    "\n"
   ]
  },
  {
   "cell_type": "markdown",
   "id": "55f06231-18ee-49cb-a9a9-79341fa08d84",
   "metadata": {},
   "source": [
    "## 2-layer CapsNet experiments"
   ]
  },
  {
   "cell_type": "code",
   "execution_count": 70,
   "id": "c4da7694-60f4-4317-818f-ba5ceea6c2eb",
   "metadata": {},
   "outputs": [],
   "source": [
    "def get_caps_activities(model, image, with_reconstruction=False):\n",
    "    if with_reconstruction:\n",
    "        model = model.capsnet2\n",
    "    with torch.no_grad():\n",
    "        input_ = Variable(image.unsqueeze(0))\n",
    "        x = model.conv1(input_)\n",
    "        x = F.relu(x)\n",
    "        pc = model.primaryCaps(x)\n",
    "        sc = model.secondaryCaps(pc)\n",
    "        dc = model.digitCaps(sc)\n",
    "        probs = dc.pow(2).sum(dim=2).sqrt()\n",
    "\n",
    "        return pc, sc, dc, probs\n",
    "\n",
    "        \n",
    "    def forward(self, input):\n",
    "        x = self.conv1(input)\n",
    "        x = F.relu(x)\n",
    "        x = self.primaryCaps(x)\n",
    "        x = self.secondaryCaps(x)\n",
    "        x = self.digitCaps(x)\n",
    "        probs = x.pow(2).sum(dim=2).sqrt()\n",
    "        return x, probs\n"
   ]
  },
  {
   "cell_type": "markdown",
   "id": "7c4f9887-d45a-4595-9697-5fb3ef4d9037",
   "metadata": {},
   "source": [
    "### Load models"
   ]
  },
  {
   "cell_type": "code",
   "execution_count": 120,
   "id": "f5b89faa-5f31-48c5-8350-9def91276711",
   "metadata": {},
   "outputs": [],
   "source": [
    "TWOLAYER_PATH = 'data/two-layer_reconFalse_iters3_session1656238156/two-layer_013_model_dict_3routing_reconstructionFalse.pth'\n",
    "TWOLAYER_NO_ROUTING_PATH = 'data/two-layer_reconTrue_iters0_session1656255718/two-layer_013_model_dict_0routing_reconstructionTrue.pth'\n",
    "\n",
    "TWOLAYER_10ROUTING_PATH = 'data/two-layer_reconFalse_iters10_session1656253762/two-layer_012_model_dict_10routing_reconstructionFalse.pth'\n",
    "\n",
    "TWOLAYER_WITH_RECON_PATH = 'data/two-layer_reconTrue_iters3_session1656254683/two-layer_013_model_dict_3routing_reconstructionTrue.pth'\n",
    "\n",
    "\n",
    "def load_model2(with_routing=True, with_reconstruction=True):\n",
    "    if with_routing:\n",
    "        if with_reconstruction:\n",
    "            print(\"Loading CapsNet2...\")\n",
    "            model = CapsNet2(routing_iterations=3)\n",
    "            reconstruction_model = ReconstructionNet(16, 10)\n",
    "            model = CapsNet2WithReconstruction(model, reconstruction_model)\n",
    "            path = TWOLAYER_WITH_RECON_PATH\n",
    "            reconstruction_alpha = 0.0005\n",
    "        else:            \n",
    "            print(\"Loading CapsNet2 with no reconstruction...\")\n",
    "            model = CapsNet2(routing_iterations=3)\n",
    "            path = TWOLAYER_10ROUTING_PATH\n",
    "    else:\n",
    "        if with_reconstruction:\n",
    "            model = CapsNet2(routing_iterations=0)\n",
    "            reconstruction_model = ReconstructionNet(16, 10)\n",
    "            model = CapsNet2WithReconstruction(model, reconstruction_model)\n",
    "            print(\"Loading CapsNet without routing...\")\n",
    "            path = TWOLAYER_NO_ROUTING_PATH\n",
    "            reconstruction_alpha = 0.0005\n",
    "        else:\n",
    "            model = CapsNet2(routing_iterations=0)\n",
    "            print(\"Loading CapsNet without routing or reconstruction...\")\n",
    "            path = TWOLAYER_NO_ROUTING_PATH\n",
    "\n",
    "    if cuda:\n",
    "        model.cuda()\n",
    "    model.load_state_dict(torch.load(path))\n",
    "\n",
    "    return model\n"
   ]
  },
  {
   "cell_type": "markdown",
   "id": "305d7ff8-87ff-4910-abf4-283858366cd1",
   "metadata": {},
   "source": [
    "### Iterative inference"
   ]
  },
  {
   "cell_type": "code",
   "execution_count": 180,
   "id": "33bfb100-eca1-4aaa-899f-b6f118985c05",
   "metadata": {
    "tags": []
   },
   "outputs": [],
   "source": [
    "def infer_one_example_twolayer(x, targets, model=model, num_steps=500, lr=1e-2, momentum=0., loss_fn=standard_pc_error, with_reconstruction=True, penalty=1):\n",
    "    if with_reconstruction:\n",
    "        model = model.capsnet2\n",
    "        \n",
    "    model.eval()\n",
    "    for param in model.parameters():\n",
    "        param.requires_grad = False\n",
    "    \n",
    "    conv1_out = model.conv1(x).float()\n",
    "    primaryCaps_out = model.primaryCaps(conv1_out).float()\n",
    "    secondaryCaps_out = model.secondaryCaps(primaryCaps_out).float()\n",
    "    digitCaps_out = model.digitCaps(secondaryCaps_out).float()\n",
    "    probs = digitCaps_out.pow(2).sum(dim=2).sqrt()\n",
    "\n",
    "    conv1_x = nn.Parameter(conv1_out)\n",
    "    primaryCaps_x = nn.Parameter(primaryCaps_out)\n",
    "    secondaryCaps_x = nn.Parameter(secondaryCaps_out)\n",
    "    digitCaps_x = nn.Parameter(digitCaps_out)\n",
    "\n",
    "    # One-hot encode target\n",
    "    t = torch.zeros(torch.Size([targets.size()[0], model.n_classes])).long()\n",
    "    if targets.is_cuda:\n",
    "        t = t.cuda()\n",
    "    t = t.scatter_(1, targets.data.view(-1, 1), 1)\n",
    "    targets = Variable(t)\n",
    "\n",
    "    pc_activations = []\n",
    "    sc_activations = []\n",
    "    dc_activations = []\n",
    "    l2_norms = []\n",
    "    losses = []\n",
    "\n",
    "    opt = optim.SGD([conv1_x, primaryCaps_x, secondaryCaps_x, digitCaps_x], lr=lr, momentum=momentum)\n",
    "    opt.zero_grad()\n",
    "\n",
    "    for step in range(num_steps):\n",
    "        opt.zero_grad()\n",
    "\n",
    "        conv1_errors = conv1_x - model.conv1(x)            \n",
    "        primaryCaps_errors = primaryCaps_x - model.primaryCaps(conv1_x)\n",
    "        secondaryCaps_errors = secondaryCaps_x - model.secondaryCaps(primaryCaps_x)\n",
    "        digitCaps_errors = digitCaps_x - model.digitCaps(secondaryCaps_x)            \n",
    "        output_errors = digitCaps_x.pow(2).sum(dim=2).sqrt() - targets\n",
    "\n",
    "        loss = standard_pc_error(conv1_errors, digitCaps_x) \\\n",
    "            + standard_pc_error(primaryCaps_errors, digitCaps_x) \\\n",
    "            + loss_fn(secondaryCaps_errors, secondaryCaps_x, penalty=-5) \\\n",
    "            + standard_pc_error(digitCaps_errors, digitCaps_x) \\\n",
    "            + loss_fn(output_errors, digitCaps_x)  \n",
    "        \n",
    "        # loss = loss_fn(output_errors, digitCaps_x)\n",
    "        if step%100==0:\n",
    "            print(\"loss\", loss)\n",
    "\n",
    "        loss.backward()            \n",
    "        opt.step()\n",
    "\n",
    "        pc_activations.append(primaryCaps_out.detach().cpu().numpy())\n",
    "        sc_activations.append(secondaryCaps_out.detach().cpu().numpy())\n",
    "        dc_activations.append(digitCaps_out.detach().cpu().numpy())\n",
    "        l2_norms.append(probs.detach().cpu().numpy())\n",
    "        losses.append(loss.detach().cpu().numpy())\n",
    "\n",
    "    for param in model.parameters():\n",
    "        param.requires_grad = True\n",
    "\n",
    "    return secondaryCaps_out.detach().cpu().numpy(), digitCaps_x.detach().cpu().numpy()"
   ]
  },
  {
   "cell_type": "markdown",
   "id": "2a280fb0-9bb0-4269-b98c-e172cdfcf2cc",
   "metadata": {},
   "source": [
    "### Plotting"
   ]
  },
  {
   "cell_type": "code",
   "execution_count": 181,
   "id": "b9db785a-c5d6-4564-9321-df0e7649ff10",
   "metadata": {},
   "outputs": [],
   "source": [
    "import matplotlib.pyplot as plt\n",
    "from matplotlib.gridspec import GridSpec\n",
    "\n",
    "\n",
    "def format_axes(fig):\n",
    "    for i, ax in enumerate(fig.axes):\n",
    "        ax.text(0.5, 0.5, \"ax%d\" % (i+1), va=\"center\", ha=\"center\")\n",
    "        ax.tick_params(labelbottom=False, labelleft=False)\n",
    "\n",
    "# fig = plt.figure(constrained_layout=True)\n",
    "\n",
    "# gs = GridSpec(3, 3, figure=fig)\n",
    "# ax1 = fig.add_subplot(gs[0, :])\n",
    "# # identical to ax1 = plt.subplot(gs.new_subplotspec((0, 0), colspan=3))\n",
    "# ax2 = fig.add_subplot(gs[1, :-1])\n",
    "# ax3 = fig.add_subplot(gs[1:, -1])\n",
    "# ax4 = fig.add_subplot(gs[-1, 0])\n",
    "# ax5 = fig.add_subplot(gs[-1, -2])\n",
    "\n",
    "# fig.suptitle(\"GridSpec\")\n",
    "# format_axes(fig)\n",
    "\n",
    "# plt.show()\n",
    "\n",
    "\n",
    "def plot_results2(num_examples=5, model_type=\"routing\", loader=inference_loader, recon=False, data=None):\n",
    "\n",
    "    assert model_type in [\"routing\", \"no_routing\", \"iterative\", \"iterative_l1\"]\n",
    "    \n",
    "    if model_type == \"routing\":\n",
    "        if recon:\n",
    "            model = load_model2(with_reconstruction=True)\n",
    "        else:\n",
    "            model = load_model2(with_reconstruction=False)\n",
    "    else:\n",
    "        if recon:\n",
    "            model = load_model2(with_routing=False, with_reconstruction=True)\n",
    "        else:\n",
    "            model = load_model2(with_routing=False, with_reconstruction=False)    \n",
    "    model.eval()\n",
    "    \n",
    "    images = []\n",
    "    if data is not None:\n",
    "        images = [data[\"images\"][i].numpy()[0][0] for i in range(num_examples)]\n",
    "\n",
    "    ymin, ymax = -0.5, 0.5\n",
    "    \n",
    "    l2_ymin, l2_ymax = -2, 2\n",
    "\n",
    "    for i in range(num_examples):\n",
    "        if data is not None:\n",
    "            image_tensor, label = data[\"images\"][i], data[\"labels\"][i]\n",
    "        else:\n",
    "            image_tensor, label = next(iter(loader))\n",
    "            images.append(image_tensor.numpy()[0][0])\n",
    "        if cuda:\n",
    "            image_tensor, label = image_tensor.cuda(), label.cuda()\n",
    "        image_tensor, label = Variable(image_tensor), Variable(label)\n",
    "        \n",
    "        \n",
    "        fig = plt.figure(figsize=(16,4))\n",
    "\n",
    "        gs = GridSpec(2, 16, figure=fig)\n",
    "        secondary_axs = fig.add_subplot(gs[0, :])\n",
    "        # identical to ax1 = plt.subplot(gs.new_subplotspec((0, 0), colspan=3))\n",
    "        #ax2 = fig.add_subplot(gs[1, 0])\n",
    "        secondary_axs = []\n",
    "        dc_axs = []\n",
    "        for idx in range(16):\n",
    "            secondary_axs.append(fig.add_subplot(gs[1,idx]))\n",
    "        mnist_ax = fig.add_subplot(gs[0,0])\n",
    "        mnist_ax.xaxis.set_ticklabels([])\n",
    "        mnist_ax.xaxis.set_ticks([])\n",
    "        mnist_ax.yaxis.set_ticklabels([])\n",
    "        mnist_ax.yaxis.set_ticks([])\n",
    "\n",
    "        for idx in range(1,11):\n",
    "            dc_axs.append(fig.add_subplot(gs[0,idx]))\n",
    "        mnist_ax.imshow(images[i], cmap='gray')\n",
    "\n",
    "        print(image_tensor.shape)\n",
    "        if model_type in [\"routing\", \"no_routing\"]:\n",
    "            _, secondary_caps, digit_caps, _ = get_caps_activities(model, image_tensor[0], with_reconstruction=recon)\n",
    "            secondary_caps = secondary_caps.detach().cpu().numpy()\n",
    "            digit_caps = digit_caps.detach().cpu().numpy()\n",
    "        elif model_type == \"iterative\":\n",
    "            secondary_caps, digit_caps = infer_one_example_twolayer(image_tensor, label, model, with_reconstruction=recon)\n",
    "        elif model_type == \"iterative_l1\":\n",
    "            secondary_caps, digit_caps = infer_one_example_twolayer(image_tensor, label, model, loss_fn=pc_plus_capsules_l1, with_reconstruction=recon)\n",
    "        print(secondary_caps.shape)\n",
    "        print(digit_caps.shape)\n",
    "                \n",
    "        for idx in range(0, 10):\n",
    "            ax = dc_axs[idx]\n",
    "            if idx == label:\n",
    "                for spine in ax.spines.values():\n",
    "                    spine.set_edgecolor('red')\n",
    "            ax.bar(range(16), digit_caps[0][idx])\n",
    "            ax.set_ylim([ymin, ymax])\n",
    "            ax.xaxis.set_ticklabels([])\n",
    "            ax.xaxis.set_ticks([])\n",
    "            ax.set_xlabel(idx)\n",
    "            \n",
    "            if idx < 9:\n",
    "                ax.yaxis.set_ticklabels([])\n",
    "                ax.yaxis.set_ticks([])\n",
    "            else:\n",
    "                ax.yaxis.tick_right()\n",
    "\n",
    "        for idx in range(0, 16):\n",
    "            ax = secondary_axs[idx]\n",
    "            ax.bar(range(8), secondary_caps[0][idx])\n",
    "            ax.set_ylim([ymin -.5, ymax + .5])\n",
    "            ax.xaxis.set_ticklabels([])\n",
    "            ax.xaxis.set_ticks([])\n",
    "            ax.set_xlabel(idx-1)\n",
    "            \n",
    "            if idx < 15:\n",
    "                ax.yaxis.set_ticklabels([])\n",
    "                ax.yaxis.set_ticks([])\n",
    "            else:\n",
    "                ax.yaxis.tick_right()\n",
    "\n",
    "                \n",
    "                \n",
    "    plt.show()\n",
    "\n"
   ]
  },
  {
   "cell_type": "code",
   "execution_count": 182,
   "id": "2c245b60-9f7f-4723-8ee9-098f3d335893",
   "metadata": {},
   "outputs": [
    {
     "name": "stdout",
     "output_type": "stream",
     "text": [
      "iterative model plus L1:\n",
      "PCx 6 PCy 6\n",
      "Loading CapsNet without routing...\n",
      "torch.Size([1, 1, 28, 28])\n",
      "loss tensor(-77.1311, device='cuda:0', grad_fn=<AddBackward0>)\n",
      "loss tensor(-174.9990, device='cuda:0', grad_fn=<AddBackward0>)\n",
      "loss tensor(-176.8355, device='cuda:0', grad_fn=<AddBackward0>)\n",
      "loss tensor(-176.8888, device='cuda:0', grad_fn=<AddBackward0>)\n",
      "loss tensor(-176.8980, device='cuda:0', grad_fn=<AddBackward0>)\n",
      "(1, 16, 8)\n",
      "(1, 10, 16)\n",
      "torch.Size([1, 1, 28, 28])\n",
      "loss tensor(-76.9320, device='cuda:0', grad_fn=<AddBackward0>)\n",
      "loss tensor(-175.1778, device='cuda:0', grad_fn=<AddBackward0>)\n",
      "loss tensor(-177.0068, device='cuda:0', grad_fn=<AddBackward0>)\n",
      "loss tensor(-177.0811, device='cuda:0', grad_fn=<AddBackward0>)\n",
      "loss tensor(-177.0951, device='cuda:0', grad_fn=<AddBackward0>)\n",
      "(1, 16, 8)\n",
      "(1, 10, 16)\n",
      "torch.Size([1, 1, 28, 28])\n",
      "loss tensor(-76.6226, device='cuda:0', grad_fn=<AddBackward0>)\n",
      "loss tensor(-175.1769, device='cuda:0', grad_fn=<AddBackward0>)\n",
      "loss tensor(-177.0342, device='cuda:0', grad_fn=<AddBackward0>)\n",
      "loss tensor(-177.1127, device='cuda:0', grad_fn=<AddBackward0>)\n",
      "loss tensor(-177.1123, device='cuda:0', grad_fn=<AddBackward0>)\n",
      "(1, 16, 8)\n",
      "(1, 10, 16)\n",
      "torch.Size([1, 1, 28, 28])\n",
      "loss tensor(-76.7908, device='cuda:0', grad_fn=<AddBackward0>)\n",
      "loss tensor(-175.1919, device='cuda:0', grad_fn=<AddBackward0>)\n",
      "loss tensor(-177.0623, device='cuda:0', grad_fn=<AddBackward0>)\n",
      "loss tensor(-177.1290, device='cuda:0', grad_fn=<AddBackward0>)\n",
      "loss tensor(-177.1465, device='cuda:0', grad_fn=<AddBackward0>)\n",
      "(1, 16, 8)\n",
      "(1, 10, 16)\n",
      "torch.Size([1, 1, 28, 28])\n",
      "loss tensor(-77.6637, device='cuda:0', grad_fn=<AddBackward0>)\n",
      "loss tensor(-175.8177, device='cuda:0', grad_fn=<AddBackward0>)\n",
      "loss tensor(-177.6561, device='cuda:0', grad_fn=<AddBackward0>)\n",
      "loss tensor(-177.7225, device='cuda:0', grad_fn=<AddBackward0>)\n",
      "loss tensor(-177.7359, device='cuda:0', grad_fn=<AddBackward0>)\n",
      "(1, 16, 8)\n",
      "(1, 10, 16)\n"
     ]
    },
    {
     "data": {
      "image/png": "[encoded data removed]",
      "text/plain": [
       "<Figure size 1152x288 with 28 Axes>"
      ]
     },
     "metadata": {
      "needs_background": "light"
     },
     "output_type": "display_data"
    },
    {
     "data": {
      "image/png": "[encoded data removed]",
      "text/plain": [
       "<Figure size 1152x288 with 28 Axes>"
      ]
     },
     "metadata": {
      "needs_background": "light"
     },
     "output_type": "display_data"
    },
    {
     "data": {
      "image/png": "[encoded data removed]",
      "text/plain": [
       "<Figure size 1152x288 with 28 Axes>"
      ]
     },
     "metadata": {
      "needs_background": "light"
     },
     "output_type": "display_data"
    },
    {
     "data": {
      "image/png": "[encoded data removed]",
      "text/plain": [
       "<Figure size 1152x288 with 28 Axes>"
      ]
     },
     "metadata": {
      "needs_background": "light"
     },
     "output_type": "display_data"
    },
    {
     "data": {
      "image/png": "[encoded data removed]",
      "text/plain": [
       "<Figure size 1152x288 with 28 Axes>"
      ]
     },
     "metadata": {
      "needs_background": "light"
     },
     "output_type": "display_data"
    }
   ],
   "source": [
    "# print(\"3-routing model:\")\n",
    "# plot_results2(model_type=\"routing\", recon=True)\n",
    "\n",
    "# print(\"0-routing model:\")\n",
    "# plot_results2(model_type=\"no_routing\", recon=True)\n",
    "\n",
    "# print(\"iterative model:\")\n",
    "# plot_results2(model_type=\"iterative\", recon=True)\n",
    "\n",
    "print(\"iterative model plus L1:\")\n",
    "plot_results2(model_type=\"iterative_l1\", recon=True)\n",
    "\n"
   ]
  },
  {
   "cell_type": "markdown",
   "id": "9988c19f-d1bc-4c8a-b211-1930644c96c1",
   "metadata": {},
   "source": [
    "# Plot data"
   ]
  },
  {
   "cell_type": "code",
   "execution_count": 16,
   "id": "021fe689-efd4-424b-874d-c22f082e3cf8",
   "metadata": {},
   "outputs": [],
   "source": [
    "def load_data(path):\n",
    "    files = glob.glob(path + f'/standard_{str(epoch).zfill(3)}*.npy')\n",
    "    outputs_fn = [fn for fn in files if \"output\" in fn][0]\n",
    "    output_data = np.load(outputs_fn, allow_pickle=True)\n",
    "    print(output_data.shape)\n",
    "\n",
    "    return output_data\n",
    "\n",
    "\n",
    "def plot_caps_activations(data, epoch, num_datapoints=10, ymin=-0.5, ymax=0.5):\n",
    "    outputs = []\n",
    "    for batch in data[:num_datapoints]:\n",
    "        print(batch[0].shape)\n",
    "        fig, axes = plt.subplots(1, 10)\n",
    "        for idx, ax in enumerate(axes):\n",
    "            ax.bar(range(16), batch[idx][0])\n",
    "            ax.set_ylim([ymin, ymax])\n",
    "            ax.xaxis.set_ticklabels([])\n",
    "            ax.xaxis.set_ticks([])\n",
    "            ax.set_xlabel(idx)\n",
    "            if idx > 0:\n",
    "                ax.yaxis.set_ticklabels([])\n",
    "        plt.show()\n",
    "\n",
    "\n",
    "def compare_loss_data(A_path, B_path, log=False, data_type=\"Test\"):\n",
    "    data_A = np.load(A_path, allow_pickle=True)\n",
    "    data_B = np.load(B_path, allow_pickle=True)\n",
    "\n",
    "    start_idx = 0\n",
    "\n",
    "    if log:\n",
    "\n",
    "        f = np.log\n",
    "    else:\n",
    "        f = lambda x: x\n",
    "    \n",
    "    if data_type == \"Training\":\n",
    "        g = np.mean\n",
    "    else:\n",
    "        g = lambda x: x\n",
    "        \n",
    "    data_A = [f(g(a)) for a in data_A]\n",
    "    data_B = [f(g(b)) for b in data_B]\n",
    "\n",
    "    plt.plot(range(1, len(data_A[start_idx:]) + 1), data_A[start_idx:], label=\"CapsNet with 3 routing iterations\")\n",
    "    plt.plot(range(1, len(data_B[start_idx:]) + 1), data_B[start_idx:], label=\"CapsNet without routing\")\n",
    "    plt.title(f'{data_type} loss per epoch {\"(log scale)\"*log}')\n",
    "    plt.xlabel(\"Epoch\")\n",
    "    plt.ylabel(f\"{data_type} set loss\")\n",
    "\n",
    "    plt.legend()\n",
    "    plt.show()\n",
    "    plt.clf()\n"
   ]
  },
  {
   "cell_type": "markdown",
   "id": "a234445f-46a3-44e5-a710-06b20407cae0",
   "metadata": {
    "tags": []
   },
   "source": [
    "## Plot losses"
   ]
  },
  {
   "cell_type": "code",
   "execution_count": 19,
   "id": "fb3bb793-58f8-43fe-a5ba-beb071acba65",
   "metadata": {},
   "outputs": [
    {
     "data": {
      "image/png": "[encoded data removed]",
      "text/plain": [
       "<Figure size 432x288 with 1 Axes>"
      ]
     },
     "metadata": {
      "needs_background": "light"
     },
     "output_type": "display_data"
    },
    {
     "data": {
      "image/png": "[encoded data removed]",
      "text/plain": [
       "<Figure size 432x288 with 1 Axes>"
      ]
     },
     "metadata": {
      "needs_background": "light"
     },
     "output_type": "display_data"
    },
    {
     "data": {
      "text/plain": [
       "<Figure size 432x288 with 0 Axes>"
      ]
     },
     "metadata": {},
     "output_type": "display_data"
    }
   ],
   "source": [
    "routing_loss_path = 'data/standard_reconFalse_iters3_session_13epochs/standard_013_test_losses.npy'\n",
    "no_routing_loss_path = 'data/standard_reconFalse_iters0_session_13epochs/standard_013_test_losses.npy'\n",
    "\n",
    "rout_train_loss = 'data/standard_reconFalse_iters3_session_13epochs/standard_013_train_losses.npy'\n",
    "norout_train_loss = 'data/standard_reconFalse_iters0_session_13epochs/standard_013_train_losses.npy'\n",
    "\n",
    "compare_loss_data(routing_loss_path, no_routing_loss_path, log=True, data_type=\"Test\")\n",
    "compare_loss_data(rout_train_loss, norout_train_loss, log=True, data_type=\"Training\")"
   ]
  },
  {
   "cell_type": "markdown",
   "id": "078c3044-19ef-4c5b-aca4-d093d29645ce",
   "metadata": {},
   "source": [
    "## Test"
   ]
  },
  {
   "cell_type": "code",
   "execution_count": 52,
   "id": "b0fb89b0-7018-4c05-9c75-6817e27ec1c3",
   "metadata": {},
   "outputs": [
    {
     "data": {
      "text/plain": [
       "([<matplotlib.axis.XTick at 0x7f9a3c79f400>,\n",
       "  <matplotlib.axis.XTick at 0x7f9a3c79f3d0>,\n",
       "  <matplotlib.axis.XTick at 0x7f9a3c796730>,\n",
       "  <matplotlib.axis.XTick at 0x7f9a3c750340>],\n",
       " [Text(0, 0, 'Standard'),\n",
       "  Text(1, 0, 'No routing'),\n",
       "  Text(2, 0, 'No reconstruction'),\n",
       "  Text(3, 0, 'Neither')])"
      ]
     },
     "execution_count": 53,
     "metadata": {},
     "output_type": "execute_result"
    },
    {
     "data": {
      "image/png": "[encoded data removed]",
      "text/plain": [
       "<Figure size 432x288 with 1 Axes>"
      ]
     },
     "metadata": {
      "needs_background": "light"
     },
     "output_type": "display_data"
    }
   ],
   "source": [
    "print(\"Test set loss for +routing +reconstruction model:\")\n",
    "model = load_model()\n",
    "loss = test()\n",
    "\n",
    "print(\"Test set loss for -routing +reconstruction model:\")\n",
    "model = load_model(with_routing=False)\n",
    "loss_no_routing = test()\n",
    "\n",
    "print(\"Test set loss for +routing -reconstruction model:\")\n",
    "model = load_model(with_reconstruction=False)\n",
    "loss_no_recon = test(with_recon=False)\n",
    "\n",
    "print(\"Test set loss for -routing -reconstruction model:\")\n",
    "model = load_model(with_routing=False, with_reconstruction=False)\n",
    "loss_neither = test(with_recon=False)\n",
    "\n",
    "plt.bar(range(4), [loss, loss_no_routing, loss_no_recon, loss_neither])\n",
    "plt.title(\"Test set loss\")\n",
    "plt.xticks(range(4), [\"Standard\", \"No routing\", \"No reconstruction\", \"Neither\"])\n"
   ]
  },
  {
   "cell_type": "code",
   "execution_count": 152,
   "id": "50b3b15d-5db4-4b5a-a872-ed357c7e6889",
   "metadata": {},
   "outputs": [
    {
     "name": "stdout",
     "output_type": "stream",
     "text": [
      "(469,)\n",
      "(10, 16)\n"
     ]
    },
    {
     "data": {
      "image/png": "[encoded data removed]",
      "text/plain": [
       "<Figure size 432x288 with 10 Axes>"
      ]
     },
     "metadata": {
      "needs_background": "light"
     },
     "output_type": "display_data"
    },
    {
     "name": "stdout",
     "output_type": "stream",
     "text": [
      "(10, 16)\n"
     ]
    },
    {
     "data": {
      "image/png": "[encoded data removed]",
      "text/plain": [
       "<Figure size 432x288 with 10 Axes>"
      ]
     },
     "metadata": {
      "needs_background": "light"
     },
     "output_type": "display_data"
    },
    {
     "name": "stdout",
     "output_type": "stream",
     "text": [
      "(10, 16)\n"
     ]
    },
    {
     "data": {
      "image/png": "[encoded data removed]",
      "text/plain": [
       "<Figure size 432x288 with 10 Axes>"
      ]
     },
     "metadata": {
      "needs_background": "light"
     },
     "output_type": "display_data"
    },
    {
     "name": "stdout",
     "output_type": "stream",
     "text": [
      "(10, 16)\n"
     ]
    },
    {
     "data": {
      "image/png": "[encoded data removed]",
      "text/plain": [
       "<Figure size 432x288 with 10 Axes>"
      ]
     },
     "metadata": {
      "needs_background": "light"
     },
     "output_type": "display_data"
    },
    {
     "name": "stdout",
     "output_type": "stream",
     "text": [
      "(10, 16)\n"
     ]
    },
    {
     "data": {
      "image/png": "[encoded data removed]",
      "text/plain": [
       "<Figure size 432x288 with 10 Axes>"
      ]
     },
     "metadata": {
      "needs_background": "light"
     },
     "output_type": "display_data"
    },
    {
     "name": "stdout",
     "output_type": "stream",
     "text": [
      "(10, 16)\n"
     ]
    },
    {
     "data": {
      "image/png": "[encoded data removed]",
      "text/plain": [
       "<Figure size 432x288 with 10 Axes>"
      ]
     },
     "metadata": {
      "needs_background": "light"
     },
     "output_type": "display_data"
    },
    {
     "name": "stdout",
     "output_type": "stream",
     "text": [
      "(10, 16)\n"
     ]
    },
    {
     "data": {
      "image/png": "[encoded data removed]",
      "text/plain": [
       "<Figure size 432x288 with 10 Axes>"
      ]
     },
     "metadata": {
      "needs_background": "light"
     },
     "output_type": "display_data"
    },
    {
     "name": "stdout",
     "output_type": "stream",
     "text": [
      "(10, 16)\n"
     ]
    },
    {
     "data": {
      "image/png": "[encoded data removed]",
      "text/plain": [
       "<Figure size 432x288 with 10 Axes>"
      ]
     },
     "metadata": {
      "needs_background": "light"
     },
     "output_type": "display_data"
    },
    {
     "name": "stdout",
     "output_type": "stream",
     "text": [
      "(10, 16)\n"
     ]
    },
    {
     "data": {
      "image/png": "[encoded data removed]",
      "text/plain": [
       "<Figure size 432x288 with 10 Axes>"
      ]
     },
     "metadata": {
      "needs_background": "light"
     },
     "output_type": "display_data"
    },
    {
     "name": "stdout",
     "output_type": "stream",
     "text": [
      "(10, 16)\n"
     ]
    },
    {
     "data": {
      "image/png": "[encoded data removed]",
      "text/plain": [
       "<Figure size 432x288 with 10 Axes>"
      ]
     },
     "metadata": {
      "needs_background": "light"
     },
     "output_type": "display_data"
    }
   ],
   "source": [
    "epoch = 13\n",
    "datapath = 'data/standard_reconFalse_iters3_session_13epochs'\n",
    "\n",
    "data = load_data(datapath)\n",
    "plot_caps_activations(data, epoch)\n",
    "\n"
   ]
  },
  {
   "cell_type": "code",
   "execution_count": 9,
   "id": "fb5c18fb-3e07-4745-84f6-75799b67fefa",
   "metadata": {},
   "outputs": [
    {
     "name": "stdout",
     "output_type": "stream",
     "text": [
      "(469,)\n",
      "(10, 16)\n"
     ]
    },
    {
     "data": {
      "image/png": "[encoded data removed]",
      "text/plain": [
       "<Figure size 432x288 with 10 Axes>"
      ]
     },
     "metadata": {
      "needs_background": "light"
     },
     "output_type": "display_data"
    },
    {
     "name": "stdout",
     "output_type": "stream",
     "text": [
      "(10, 16)\n"
     ]
    },
    {
     "data": {
      "image/png": "[encoded data removed]",
      "text/plain": [
       "<Figure size 432x288 with 10 Axes>"
      ]
     },
     "metadata": {
      "needs_background": "light"
     },
     "output_type": "display_data"
    },
    {
     "name": "stdout",
     "output_type": "stream",
     "text": [
      "(10, 16)\n"
     ]
    },
    {
     "data": {
      "image/png": "[encoded data removed]",
      "text/plain": [
       "<Figure size 432x288 with 10 Axes>"
      ]
     },
     "metadata": {
      "needs_background": "light"
     },
     "output_type": "display_data"
    },
    {
     "name": "stdout",
     "output_type": "stream",
     "text": [
      "(10, 16)\n"
     ]
    },
    {
     "data": {
      "image/png": "[encoded data removed]",
      "text/plain": [
       "<Figure size 432x288 with 10 Axes>"
      ]
     },
     "metadata": {
      "needs_background": "light"
     },
     "output_type": "display_data"
    },
    {
     "name": "stdout",
     "output_type": "stream",
     "text": [
      "(10, 16)\n"
     ]
    },
    {
     "data": {
      "image/png": "[encoded data removed]",
      "text/plain": [
       "<Figure size 432x288 with 10 Axes>"
      ]
     },
     "metadata": {
      "needs_background": "light"
     },
     "output_type": "display_data"
    },
    {
     "name": "stdout",
     "output_type": "stream",
     "text": [
      "(10, 16)\n"
     ]
    },
    {
     "data": {
      "image/png": "[encoded data removed]",
      "text/plain": [
       "<Figure size 432x288 with 10 Axes>"
      ]
     },
     "metadata": {
      "needs_background": "light"
     },
     "output_type": "display_data"
    },
    {
     "name": "stdout",
     "output_type": "stream",
     "text": [
      "(10, 16)\n"
     ]
    },
    {
     "data": {
      "image/png": "[encoded data removed]",
      "text/plain": [
       "<Figure size 432x288 with 10 Axes>"
      ]
     },
     "metadata": {
      "needs_background": "light"
     },
     "output_type": "display_data"
    },
    {
     "name": "stdout",
     "output_type": "stream",
     "text": [
      "(10, 16)\n"
     ]
    },
    {
     "data": {
      "image/png": "[encoded data removed]",
      "text/plain": [
       "<Figure size 432x288 with 10 Axes>"
      ]
     },
     "metadata": {
      "needs_background": "light"
     },
     "output_type": "display_data"
    },
    {
     "name": "stdout",
     "output_type": "stream",
     "text": [
      "(10, 16)\n"
     ]
    },
    {
     "data": {
      "image/png": "[encoded data removed]",
      "text/plain": [
       "<Figure size 432x288 with 10 Axes>"
      ]
     },
     "metadata": {
      "needs_background": "light"
     },
     "output_type": "display_data"
    },
    {
     "name": "stdout",
     "output_type": "stream",
     "text": [
      "(10, 16)\n"
     ]
    },
    {
     "data": {
      "image/png": "[encoded data removed]",
      "text/plain": [
       "<Figure size 432x288 with 10 Axes>"
      ]
     },
     "metadata": {
      "needs_background": "light"
     },
     "output_type": "display_data"
    }
   ],
   "source": [
    "epoch = 13\n",
    "datapath = 'data/standard_reconFalse_iters0_session_13epochs'\n",
    "\n",
    "data = load_data(datapath)\n",
    "plot_caps_activations(data, epoch)\n",
    "\n"
   ]
  }
 ],
 "metadata": {
  "kernelspec": {
   "display_name": "Python 3 (ipykernel)",
   "language": "python",
   "name": "python3"
  },
  "language_info": {
   "codemirror_mode": {
    "name": "ipython",
    "version": 3
   },
   "file_extension": ".py",
   "mimetype": "text/x-python",
   "name": "python",
   "nbconvert_exporter": "python",
   "pygments_lexer": "ipython3",
   "version": "3.9.12"
  }
 },
 "nbformat": 4,
 "nbformat_minor": 5
}
